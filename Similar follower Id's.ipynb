{
 "metadata": {
  "name": "",
  "signature": "sha256:f2ae411aebfe61cdba4da9276e2c3e42eb285a92c906e3d256e03e27c527def8"
 },
 "nbformat": 3,
 "nbformat_minor": 0,
 "worksheets": [
  {
   "cells": [
    {
     "cell_type": "code",
     "collapsed": false,
     "input": [
      "import pymongo\n",
      "import json\n",
      "import tweepy\n",
      "import requests\n",
      "from requests_oauthlib import OAuth1\n",
      "import time"
     ],
     "language": "python",
     "metadata": {},
     "outputs": [],
     "prompt_number": 1
    },
    {
     "cell_type": "code",
     "collapsed": false,
     "input": [
      "consumer_key = \"Xj4Xbph5rstwLgEuUXY8tugpz\"\n",
      "consumer_secret = \"jfjAKLx2vOwKR4a7fOPeWIEzwgH2JbRLDq0G5duJdVnWcNAXLR\"\n",
      "access_token = \"249061702-eJnbhA4qDZFWWRq517NBvGVzCconkiRfQfwVlGT4\"\n",
      "access_secret = \"ryI0rltBukG9moFuJLPnJQxhJYXXkzt2vHRebo9qTaUoE\""
     ],
     "language": "python",
     "metadata": {},
     "outputs": [],
     "prompt_number": 2
    },
    {
     "cell_type": "code",
     "collapsed": false,
     "input": [
      "oauth = OAuth1(consumer_key, \n",
      "                client_secret=consumer_secret,\n",
      "                resource_owner_key=access_token, \n",
      "                resource_owner_secret = access_secret)\n",
      "\n",
      "auth = tweepy.OAuthHandler(consumer_key, consumer_secret)\n",
      "auth.set_access_token(access_token, access_secret)\n",
      "\n",
      "api = tweepy.API(auth)"
     ],
     "language": "python",
     "metadata": {},
     "outputs": [],
     "prompt_number": 4
    },
    {
     "cell_type": "code",
     "collapsed": false,
     "input": [
      "c = pymongo.MongoClient()\n",
      "db = c['nnt']\n",
      "nassim_taleb = db['nntaleb']"
     ],
     "language": "python",
     "metadata": {},
     "outputs": [],
     "prompt_number": 5
    },
    {
     "cell_type": "code",
     "collapsed": false,
     "input": [
      "import time"
     ],
     "language": "python",
     "metadata": {},
     "outputs": [],
     "prompt_number": 6
    },
    {
     "cell_type": "code",
     "collapsed": false,
     "input": [
      "\n",
      "q = \"nntaleb\"\n",
      "max_tweets = 3200\n",
      "nassims_tweets = []\n",
      "\n",
      "#nassims_followers = tweepy.Cursor(api.followers_ids, id = q).items(max_tweets)"
     ],
     "language": "python",
     "metadata": {},
     "outputs": []
    },
    {
     "cell_type": "code",
     "collapsed": false,
     "input": [
      "# db = pymongo.MongoClient()[\"twitter_followers\"]\n",
      "\n",
      "# for name in [\"nntaleb\", \"jaltucher\", \"tferriss\", \"paulg\", \"sama\"]:\n",
      "#     print 'getting followers of', name\n",
      "#     #followers_response = []\n",
      "#     followers_response =  tweepy.Cursor(api.followers_ids, screen_name=name).items(60000)\n",
      "#     followers = list(followers_response)\n",
      "#     doc = {\"screen_name\": name,\n",
      "#            \"followers\": followers}\n",
      "#     db[\"followers\"].save(doc)\n",
      "#     print 'saved followers of', name\n",
      "#     print 'Waiting...'\n",
      "#     time.sleep(15*60)\n",
      "# print 'DONE.'"
     ],
     "language": "python",
     "metadata": {},
     "outputs": [],
     "prompt_number": 85
    },
    {
     "cell_type": "code",
     "collapsed": false,
     "input": [
      "db = pymongo.MongoClient()['twitter']\n",
      "\n",
      "print len(db['followers'].find({'screen_name': 'tferriss'})[0]['followers'])"
     ],
     "language": "python",
     "metadata": {},
     "outputs": [
      {
       "output_type": "stream",
       "stream": "stdout",
       "text": [
        "60000\n"
       ]
      }
     ],
     "prompt_number": 87
    },
    {
     "cell_type": "code",
     "collapsed": false,
     "input": [
      "tferriss_follower_id_list = []\n",
      "for follower_id in (db['followers'].find({'screen_name': 'tferriss'})[0]['followers']):\n",
      "    if type(follower_id) is long:\n",
      "        follower_id = str(follower_id)\n",
      "        follower_id = follower_id.replace(\"L\", \"\")\n",
      "        follower_id = int(follower_id)\n",
      "        tferriss_follower_id_list.append(follower_id)\n",
      "\n",
      "        \n",
      "        \n",
      "tferriss_follower_id_list = set(tferriss_follower_id_list)        \n",
      "    \n",
      "#(db['followers'].find({'screen_name': 'tferriss'})[0])"
     ],
     "language": "python",
     "metadata": {},
     "outputs": [],
     "prompt_number": 113
    },
    {
     "cell_type": "code",
     "collapsed": false,
     "input": [
      "nntaleb_follower_id_list = []\n",
      "for follower_id in (db['followers'].find({'screen_name': 'nntaleb'})[0]['followers']):\n",
      "    if type(follower_id) is long:\n",
      "        follower_id = str(follower_id)\n",
      "        follower_id = follower_id.replace(\"L\", \"\")\n",
      "        follower_id = int(follower_id)\n",
      "        nntaleb_follower_id_list.append(follower_id)\n",
      "        \n",
      "nntaleb_follower_id_list = set(nntaleb_follower_id_list)"
     ],
     "language": "python",
     "metadata": {},
     "outputs": [],
     "prompt_number": 114
    },
    {
     "cell_type": "code",
     "collapsed": false,
     "input": [
      "nntaleb_tferriss_common_followers = nntaleb_follower_id_list & tferriss_follower_id_list\n",
      "\n",
      "print \"Nassim Taleb and Tim Ferriss have {0} followers in common.\"\\\n",
      ".format(len(nntaleb_tferriss_common_followers))"
     ],
     "language": "python",
     "metadata": {},
     "outputs": [
      {
       "output_type": "stream",
       "stream": "stdout",
       "text": [
        "Nassim Taleb and Tim Ferriss have 145 followers in common.\n"
       ]
      }
     ],
     "prompt_number": 117
    },
    {
     "cell_type": "code",
     "collapsed": false,
     "input": [
      "jaltucher_follower_id_list = []\n",
      "for follower_id in (db['followers'].find({'screen_name': 'jaltucher'})[0]['followers']):\n",
      "    if type(follower_id) is long:\n",
      "        follower_id = str(follower_id)\n",
      "        follower_id = follower_id.replace(\"L\", \"\")\n",
      "        follower_id = int(follower_id)\n",
      "        jaltucher_follower_id_list.append(follower_id)\n",
      "        \n",
      "jaltucher_follower_id_list = set(jaltucher_follower_id_list)"
     ],
     "language": "python",
     "metadata": {},
     "outputs": [],
     "prompt_number": 118
    },
    {
     "cell_type": "code",
     "collapsed": false,
     "input": [
      "ja_nnt_tf_common_followers = nntaleb_follower_id_list & tferriss_follower_id_list & jaltucher_follower_id_list\n",
      "\n",
      "print \"Nassim Taleb and Tim Ferriss and James Altucher have {0} followers in common.\"\\\n",
      ".format(len(ja_nnt_tf_common_followers))"
     ],
     "language": "python",
     "metadata": {},
     "outputs": [
      {
       "output_type": "stream",
       "stream": "stdout",
       "text": [
        "Nassim Taleb and Tim Ferriss and James Altucher have 27 followers in common.\n"
       ]
      }
     ],
     "prompt_number": 119
    },
    {
     "cell_type": "code",
     "collapsed": false,
     "input": [
      "paulg_follower_id_list = []\n",
      "for follower_id in (db['followers'].find({'screen_name': 'paulg'})[0]['followers']):\n",
      "    if type(follower_id) is long:\n",
      "        follower_id = str(follower_id)\n",
      "        follower_id = follower_id.replace(\"L\", \"\")\n",
      "        follower_id = int(follower_id)\n",
      "        paulg_follower_id_list.append(follower_id)\n",
      "\n",
      "paulg_follower_id_list = set(paulg_follower_id_list)"
     ],
     "language": "python",
     "metadata": {},
     "outputs": [],
     "prompt_number": 120
    },
    {
     "cell_type": "code",
     "collapsed": false,
     "input": [
      "pg_ja_nnt_tf_common_followers = paulg_follower_id_list & nntaleb_follower_id_list & tferriss_follower_id_list & jaltucher_follower_id_list"
     ],
     "language": "python",
     "metadata": {},
     "outputs": [],
     "prompt_number": 121
    },
    {
     "cell_type": "code",
     "collapsed": false,
     "input": [
      "print \"Nassim Taleb and Tim Ferriss and Paul Grahm and James Altucher have {0} followers in common.\"\\\n",
      ".format(len(pg_ja_nnt_tf_common_followers))"
     ],
     "language": "python",
     "metadata": {},
     "outputs": [
      {
       "output_type": "stream",
       "stream": "stdout",
       "text": [
        "Nassim Taleb and Tim Ferriss and Paul Grahm and James Altucher have 7 followers in common.\n"
       ]
      }
     ],
     "prompt_number": 122
    },
    {
     "cell_type": "code",
     "collapsed": false,
     "input": [
      "sama_followers_id_list = []\n",
      "\n",
      "for follower_id in (db['followers'].find({'screen_name': 'sama'})[0]['followers']):\n",
      "    if type(follower_id) is long:\n",
      "        follower_id = str(follower_id)\n",
      "        follower_id = follower_id.replace(\"L\", \"\")\n",
      "        follower_id = int(follower_id)\n",
      "        sama_followers_id_list.append(follower_id)\n",
      "        \n",
      "sama_followers_id_list = set(sama_followers_id_list)\n",
      "\n"
     ],
     "language": "python",
     "metadata": {},
     "outputs": [],
     "prompt_number": 123
    },
    {
     "cell_type": "code",
     "collapsed": false,
     "input": [
      "sama_pg_ja_nnt_tf_common_followers = sama_followers_id_list & paulg_follower_id_list & nntaleb_follower_id_list & tferriss_follower_id_list & jaltucher_follower_id_list"
     ],
     "language": "python",
     "metadata": {},
     "outputs": [],
     "prompt_number": 124
    },
    {
     "cell_type": "code",
     "collapsed": false,
     "input": [
      "print \"Nassim Taleb and Tim Ferriss and Paul Grahm and Sam Altman and James Altucher have {0} followers in common.\"\\\n",
      ".format(len(sama_pg_ja_nnt_tf_common_followers))"
     ],
     "language": "python",
     "metadata": {},
     "outputs": [
      {
       "output_type": "stream",
       "stream": "stdout",
       "text": [
        "Nassim Taleb and Tim Ferriss and Paul Grahm and Sam Altman and James Altucher have 3 followers in common.\n"
       ]
      }
     ],
     "prompt_number": 125
    },
    {
     "cell_type": "code",
     "collapsed": false,
     "input": [
      "sama_paulg = sama_followers_id_list & paulg_follower_id_list\n",
      "\n",
      "print \"Sam Altman and Paul Grahm have {0} followers in common.\"\\\n",
      ".format(len(sama_paulg))"
     ],
     "language": "python",
     "metadata": {},
     "outputs": [
      {
       "output_type": "stream",
       "stream": "stdout",
       "text": [
        "Sam Altman and Paul Grahm have 4976 followers in common.\n"
       ]
      }
     ],
     "prompt_number": 126
    },
    {
     "cell_type": "code",
     "collapsed": false,
     "input": [
      "jaltucher_tferriss = tferriss_follower_id_list & jaltucher_follower_id_list\n",
      "\n",
      "print \"James Altucher and Tim Ferriss have {0} followers in common.\"\\\n",
      ".format(len(jaltucher_tferriss))"
     ],
     "language": "python",
     "metadata": {},
     "outputs": [
      {
       "output_type": "stream",
       "stream": "stdout",
       "text": [
        "James Altucher and Tim Ferriss have 359 followers in common.\n"
       ]
      }
     ],
     "prompt_number": 127
    },
    {
     "cell_type": "code",
     "collapsed": false,
     "input": [
      "jaltucher_nntaleb = nntaleb_follower_id_list & jaltucher_follower_id_list\n",
      "\n",
      "print \"James Altucher and Nassim Taleb have {0} followers in common.\"\\\n",
      ".format(len(jaltucher_nntaleb))\n"
     ],
     "language": "python",
     "metadata": {},
     "outputs": [
      {
       "output_type": "stream",
       "stream": "stdout",
       "text": [
        "James Altucher and Nassim Taleb have 575 followers in common.\n"
       ]
      }
     ],
     "prompt_number": 128
    },
    {
     "cell_type": "code",
     "collapsed": false,
     "input": [],
     "language": "python",
     "metadata": {},
     "outputs": []
    },
    {
     "cell_type": "code",
     "collapsed": false,
     "input": [],
     "language": "python",
     "metadata": {},
     "outputs": []
    }
   ],
   "metadata": {}
  }
 ]
}