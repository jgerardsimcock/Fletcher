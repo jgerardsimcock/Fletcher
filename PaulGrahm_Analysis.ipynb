{
 "metadata": {
  "name": "",
  "signature": "sha256:6e0fe5c72e49628f06a632e2acac792853726433986073954bf50cc062ba406a"
 },
 "nbformat": 3,
 "nbformat_minor": 0,
 "worksheets": [
  {
   "cells": [
    {
     "cell_type": "code",
     "collapsed": false,
     "input": [
      "import pandas as pd\n",
      "import numpy as np\n",
      "import seaborn as sns\n",
      "import matplotlib.pyplot as plt\n",
      "import seaborn as sns\n",
      "%matplotlib inline\n",
      "\n",
      "from nltk.tokenize import sent_tokenize\n",
      "from nltk.tokenize import TreebankWordTokenizer\n",
      "from textblob import TextBlob\n",
      "\n",
      "from collections import Counter\n",
      "from operator import itemgetter\n",
      "from nltk.corpus import stopwords\n",
      "\n",
      "from nltk.util import ngrams\n",
      "\n"
     ],
     "language": "python",
     "metadata": {},
     "outputs": [],
     "prompt_number": 39
    },
    {
     "cell_type": "code",
     "collapsed": false,
     "input": [
      "txt = open(\"../Kojak/paul_graham.txt\").read().decode('utf-8').encode('ascii','ignore')\n",
      "txt = txt.replace('\\n', \"\").lower()\n",
      "tokenizer = TreebankWordTokenizer()\n",
      "doc_words = tokenizer.tokenize(txt)\n"
     ],
     "language": "python",
     "metadata": {},
     "outputs": [],
     "prompt_number": 63
    },
    {
     "cell_type": "code",
     "collapsed": false,
     "input": [],
     "language": "python",
     "metadata": {},
     "outputs": [
      {
       "metadata": {},
       "output_type": "pyout",
       "prompt_number": 59,
       "text": [
        "u','"
       ]
      }
     ],
     "prompt_number": 59
    },
    {
     "cell_type": "code",
     "collapsed": false,
     "input": [
      "\n",
      "stop = stopwords.words(\"english\")\n",
      "stop += ['.', ',', '(', ')', \"'\", '\"', \"?\", \"-\", \"!\", \"*\",\"'s\", \"n't\", \"'re\", \"get\"]"
     ],
     "language": "python",
     "metadata": {},
     "outputs": [],
     "prompt_number": 67
    },
    {
     "cell_type": "code",
     "collapsed": false,
     "input": [
      "counter = Counter()\n",
      "\n",
      "for word in doc_words:\n",
      "    word = TextBlob(word).words\n",
      "    common_words = [common_word for common_word in word if common_word not in stop]\n",
      "    unigrams = ngrams(common_words, 1)\n",
      "    for gram in unigrams:\n",
      "        counter[gram] +=1\n",
      "        \n",
      "        \n",
      "counter.most_common(50)\n",
      "    "
     ],
     "language": "python",
     "metadata": {},
     "outputs": [
      {
       "metadata": {},
       "output_type": "pyout",
       "prompt_number": 68,
       "text": [
        "[(('people',), 2152),\n",
        " (('one',), 2001),\n",
        " (('like',), 1613),\n",
        " (('would',), 1559),\n",
        " (('startup',), 1316),\n",
        " (('startups',), 1248),\n",
        " (('work',), 1192),\n",
        " (('good',), 1152),\n",
        " (('make',), 1057),\n",
        " (('want',), 1053),\n",
        " (('could',), 1000),\n",
        " (('something',), 994),\n",
        " (('think',), 988),\n",
        " (('things',), 979),\n",
        " (('way',), 975),\n",
        " (('much',), 883),\n",
        " (('company',), 878),\n",
        " (('investors',), 848),\n",
        " (('money',), 816),\n",
        " (('even',), 803),\n",
        " (('time',), 775),\n",
        " (('founders',), 767),\n",
        " ((\"'d\",), 728),\n",
        " (('lot',), 703),\n",
        " (('new',), 690),\n",
        " (('software',), 664),\n",
        " (('know',), 658),\n",
        " (('big',), 651),\n",
        " (('start',), 649),\n",
        " ((\"'ll\",), 626),\n",
        " (('companies',), 611),\n",
        " (('may',), 606),\n",
        " ((\"'ve\",), 595),\n",
        " (('probably',), 589),\n",
        " (('need',), 558),\n",
        " (('first',), 552),\n",
        " (('idea',), 539),\n",
        " (('better',), 536),\n",
        " (('language',), 523),\n",
        " (('seem',), 523),\n",
        " (('say',), 522),\n",
        " (('thing',), 518),\n",
        " (('ideas',), 513),\n",
        " (('hard',), 513),\n",
        " (('users',), 490),\n",
        " (('problem',), 479),\n",
        " (('well',), 468),\n",
        " (('use',), 455),\n",
        " (('someone',), 450),\n",
        " (('ca',), 444)]"
       ]
      }
     ],
     "prompt_number": 68
    }
   ],
   "metadata": {}
  }
 ]
}