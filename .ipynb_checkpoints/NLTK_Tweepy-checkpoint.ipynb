{
 "metadata": {
  "name": "",
  "signature": "sha256:5ee4a650ec2119c7266cd42262152b14c9521396d5a610bf5ce737612e831009"
 },
 "nbformat": 3,
 "nbformat_minor": 0,
 "worksheets": [
  {
   "cells": [
    {
     "cell_type": "code",
     "collapsed": false,
     "input": [
      "!pip install nltk"
     ],
     "language": "python",
     "metadata": {},
     "outputs": [
      {
       "output_type": "stream",
       "stream": "stdout",
       "text": [
        "\u001b[33mYou are using pip version 6.0.7, however version 6.0.8 is available.\r\n",
        "You should consider upgrading via the 'pip install --upgrade pip' command.\u001b[0m\r\n",
        "Requirement already satisfied (use --upgrade to upgrade): nltk in /usr/local/lib/python2.7/site-packages\r\n"
       ]
      }
     ],
     "prompt_number": 1
    },
    {
     "cell_type": "code",
     "collapsed": false,
     "input": [
      "from nltk.tokenize import sent_tokenize"
     ],
     "language": "python",
     "metadata": {},
     "outputs": [],
     "prompt_number": 3
    },
    {
     "cell_type": "code",
     "collapsed": false,
     "input": [
      "from nltk.tokenize import TreebankWordTokenizer\n"
     ],
     "language": "python",
     "metadata": {},
     "outputs": [],
     "prompt_number": 4
    },
    {
     "cell_type": "code",
     "collapsed": false,
     "input": [
      "import nltk\n",
      "nltk.download()"
     ],
     "language": "python",
     "metadata": {},
     "outputs": [
      {
       "output_type": "stream",
       "stream": "stdout",
       "text": [
        "showing info http://nltk.github.com/nltk_data/\n"
       ]
      },
      {
       "metadata": {},
       "output_type": "pyout",
       "prompt_number": 1,
       "text": [
        "True"
       ]
      }
     ],
     "prompt_number": 1
    },
    {
     "cell_type": "code",
     "collapsed": false,
     "input": [
      "text = \"Hello. How are you, dear sir? Are you well? Here: drink this! It will make you feel better.\"\n",
      "\n",
      "sentences = sent_tokenize(text)\n",
      "sentences"
     ],
     "language": "python",
     "metadata": {},
     "outputs": [
      {
       "metadata": {},
       "output_type": "pyout",
       "prompt_number": 5,
       "text": [
        "['Hello.',\n",
        " 'How are you, dear sir?',\n",
        " 'Are you well?',\n",
        " 'Here: drink this!',\n",
        " 'It will make you feel better.']"
       ]
      }
     ],
     "prompt_number": 5
    },
    {
     "cell_type": "code",
     "collapsed": false,
     "input": [
      "tokenizer = TreebankWordTokenizer()\n",
      "tokenizer.tokenize(sentences[4])"
     ],
     "language": "python",
     "metadata": {},
     "outputs": [
      {
       "metadata": {},
       "output_type": "pyout",
       "prompt_number": 6,
       "text": [
        "['It', 'will', 'make', 'you', 'feel', 'better', '.']"
       ]
      }
     ],
     "prompt_number": 6
    },
    {
     "cell_type": "code",
     "collapsed": false,
     "input": [
      "from nltk.tokenize import word_tokenize\n",
      "\n",
      "words = word_tokenize(sentences[4])\n",
      "words"
     ],
     "language": "python",
     "metadata": {},
     "outputs": [
      {
       "metadata": {},
       "output_type": "pyout",
       "prompt_number": 7,
       "text": [
        "['It', 'will', 'make', 'you', 'feel', 'better', '.']"
       ]
      }
     ],
     "prompt_number": 7
    },
    {
     "cell_type": "code",
     "collapsed": false,
     "input": [
      "word_tokenize(sentences[3])"
     ],
     "language": "python",
     "metadata": {},
     "outputs": [
      {
       "metadata": {},
       "output_type": "pyout",
       "prompt_number": 8,
       "text": [
        "['Here', ':', 'drink', 'this', '!']"
       ]
      }
     ],
     "prompt_number": 8
    },
    {
     "cell_type": "code",
     "collapsed": false,
     "input": [
      "word_tokenize(\"Who's going to that thing today?\")"
     ],
     "language": "python",
     "metadata": {},
     "outputs": [
      {
       "metadata": {},
       "output_type": "pyout",
       "prompt_number": 9,
       "text": [
        "['Who', \"'s\", 'going', 'to', 'that', 'thing', 'today', '?']"
       ]
      }
     ],
     "prompt_number": 9
    },
    {
     "cell_type": "code",
     "collapsed": false,
     "input": [
      "from nltk.tokenize import wordpunct_tokenize\n",
      "wordpunct_tokenize(\"Who's going to that thing today?\")"
     ],
     "language": "python",
     "metadata": {},
     "outputs": [
      {
       "metadata": {},
       "output_type": "pyout",
       "prompt_number": 10,
       "text": [
        "['Who', \"'\", 's', 'going', 'to', 'that', 'thing', 'today', '?']"
       ]
      }
     ],
     "prompt_number": 10
    },
    {
     "cell_type": "code",
     "collapsed": false,
     "input": [
      "from nltk.tag import pos_tag\n",
      "words = word_tokenize(\"Who's going to that thing today?\")\n",
      "pos_tag(words)"
     ],
     "language": "python",
     "metadata": {},
     "outputs": [
      {
       "metadata": {},
       "output_type": "pyout",
       "prompt_number": 11,
       "text": [
        "[('Who', 'WP'),\n",
        " (\"'s\", 'VBZ'),\n",
        " ('going', 'VBG'),\n",
        " ('to', 'TO'),\n",
        " ('that', 'DT'),\n",
        " ('thing', 'NN'),\n",
        " ('today', 'NN'),\n",
        " ('?', '.')]"
       ]
      }
     ],
     "prompt_number": 11
    },
    {
     "cell_type": "code",
     "collapsed": false,
     "input": [
      "import nltk\n",
      "nltk.download()"
     ],
     "language": "python",
     "metadata": {},
     "outputs": [
      {
       "output_type": "stream",
       "stream": "stdout",
       "text": [
        "showing info http://nltk.github.com/nltk_data/\n"
       ]
      },
      {
       "metadata": {},
       "output_type": "pyout",
       "prompt_number": 13,
       "text": [
        "True"
       ]
      }
     ],
     "prompt_number": 13
    },
    {
     "cell_type": "code",
     "collapsed": false,
     "input": [
      "from nltk.corpus import treebank_chunk\n",
      "treebank_chunk.tagged_sents()[0]"
     ],
     "language": "python",
     "metadata": {},
     "outputs": [
      {
       "metadata": {},
       "output_type": "pyout",
       "prompt_number": 14,
       "text": [
        "[(u'Pierre', u'NNP'),\n",
        " (u'Vinken', u'NNP'),\n",
        " (u',', u','),\n",
        " (u'61', u'CD'),\n",
        " (u'years', u'NNS'),\n",
        " (u'old', u'JJ'),\n",
        " (u',', u','),\n",
        " (u'will', u'MD'),\n",
        " (u'join', u'VB'),\n",
        " (u'the', u'DT'),\n",
        " (u'board', u'NN'),\n",
        " (u'as', u'IN'),\n",
        " (u'a', u'DT'),\n",
        " (u'nonexecutive', u'JJ'),\n",
        " (u'director', u'NN'),\n",
        " (u'Nov.', u'NNP'),\n",
        " (u'29', u'CD'),\n",
        " (u'.', u'.')]"
       ]
      }
     ],
     "prompt_number": 14
    },
    {
     "cell_type": "code",
     "collapsed": false,
     "input": [
      "treebank_chunk.chunked_sents()[0].draw"
     ],
     "language": "python",
     "metadata": {},
     "outputs": [
      {
       "metadata": {},
       "output_type": "pyout",
       "prompt_number": 15,
       "text": [
        "<bound method Tree.draw of Tree('S', [Tree('NP', [(u'Pierre', u'NNP'), (u'Vinken', u'NNP')]), (u',', u','), Tree('NP', [(u'61', u'CD'), (u'years', u'NNS')]), (u'old', u'JJ'), (u',', u','), (u'will', u'MD'), (u'join', u'VB'), Tree('NP', [(u'the', u'DT'), (u'board', u'NN')]), (u'as', u'IN'), Tree('NP', [(u'a', u'DT'), (u'nonexecutive', u'JJ'), (u'director', u'NN'), (u'Nov.', u'NNP'), (u'29', u'CD')]), (u'.', u'.')])>"
       ]
      }
     ],
     "prompt_number": 15
    },
    {
     "cell_type": "code",
     "collapsed": false,
     "input": [
      "!pip install textblob"
     ],
     "language": "python",
     "metadata": {},
     "outputs": [
      {
       "output_type": "stream",
       "stream": "stdout",
       "text": [
        "\u001b[33mYou are using pip version 6.0.7, however version 6.0.8 is available.\r\n",
        "You should consider upgrading via the 'pip install --upgrade pip' command.\u001b[0m\r\n"
       ]
      },
      {
       "output_type": "stream",
       "stream": "stdout",
       "text": [
        "Collecting textblob\r\n"
       ]
      },
      {
       "output_type": "stream",
       "stream": "stdout",
       "text": [
        "  Downloading textblob-0.9.0-py2.py3-none-any.whl (640kB)\r\n",
        "\u001b[?25l\r",
        "\u001b[K    0% |                                | 4.1kB 16.3MB/s eta 0:00:01\r",
        "\u001b[K    1% |                                | 8.2kB 17.2MB/s eta 0:00:01\r",
        "\u001b[K    1% |                                | 12kB 8.1MB/s eta 0:00:01\r",
        "\u001b[K    2% |                                | 16kB 9.2MB/s eta 0:00:01\r",
        "\u001b[K    3% |#                               | 20kB 8.7MB/s eta 0:00:01\r",
        "\u001b[K    3% |#                               | 24kB 9.2MB/s eta 0:00:01\r",
        "\u001b[K    4% |#                               | 28kB 9.7MB/s eta 0:00:01\r",
        "\u001b[K    5% |#                               | 32kB 10.4MB/s eta 0:00:01\r",
        "\u001b[K    5% |#                               | 36kB 5.4MB/s eta 0:00:01\r",
        "\u001b[K    6% |##                              | 40kB 5.7MB/s eta 0:00:01\r",
        "\u001b[K    7% |##                              | 45kB 5.7MB/s eta 0:00:01\r",
        "\u001b[K    7% |##                              | 49kB 5.7MB/s eta 0:00:01\r",
        "\u001b[K    8% |##                              | 53kB 6.3MB/s eta 0:00:01\r",
        "\u001b[K    8% |##                              | 57kB 6.3MB/s eta 0:00:01\r",
        "\u001b[K    9% |###                             | 61kB 6.7MB/s eta 0:00:01\r",
        "\u001b[K    10% |###                             | 65kB 6.4MB/s eta 0:00:01\r",
        "\u001b[K    10% |###                             | 69kB 5.7MB/s eta 0:00:01\r",
        "\u001b[K    11% |###                             | 73kB 5.6MB/s eta 0:00:01\r",
        "\u001b[K    12% |###                             | 77kB 10.5MB/s eta 0:00:01\r",
        "\u001b[K    12% |####                            | 81kB 10.9MB/s eta 0:00:01\r",
        "\u001b[K    13% |####                            | 86kB 9.9MB/s eta 0:00:01\r",
        "\u001b[K    14% |####                            | 90kB 9.8MB/s eta 0:00:01\r",
        "\u001b[K    14% |####                            | 94kB 10.3MB/s eta 0:00:01\r",
        "\u001b[K    15% |####                            | 98kB 10.6MB/s eta 0:00:01\r",
        "\u001b[K    15% |#####                           | 102kB 8.2MB/s eta 0:00:01\r",
        "\u001b[K    16% |#####                           | 106kB 6.2MB/s eta 0:00:01\r",
        "\u001b[K    17% |#####                           | 110kB 5.2MB/s eta 0:00:01\r",
        "\u001b[K    17% |#####                           | 114kB 5.1MB/s eta 0:00:01\r",
        "\u001b[K    18% |#####                           | 118kB 5.1MB/s eta 0:00:01\r",
        "\u001b[K    19% |######                          | 122kB 5.0MB/s eta 0:00:01\r",
        "\u001b[K    19% |######                          | 126kB 5.3MB/s eta 0:00:01\r",
        "\u001b[K    20% |######                          | 131kB 5.3MB/s eta 0:00:01\r",
        "\u001b[K    21% |######                          | 135kB 4.3MB/s eta 0:00:01\r",
        "\u001b[K    21% |######                          | 139kB 4.3MB/s eta 0:00:01\r",
        "\u001b[K    22% |#######                         | 143kB 4.1MB/s eta 0:00:01\r",
        "\u001b[K    23% |#######                         | 147kB 5.1MB/s eta 0:00:01\r",
        "\u001b[K    23% |#######                         | 151kB 6.8MB/s eta 0:00:01\r",
        "\u001b[K    24% |#######                         | 155kB 7.3MB/s eta 0:00:01\r",
        "\u001b[K    24% |#######                         | 159kB 6.1MB/s eta 0:00:01\r",
        "\u001b[K    25% |########                        | 163kB 6.3MB/s eta 0:00:01\r",
        "\u001b[K    26% |########                        | 167kB 5.2MB/s eta 0:00:01\r",
        "\u001b[K    26% |########                        | 172kB 5.2MB/s eta 0:00:01"
       ]
      },
      {
       "output_type": "stream",
       "stream": "stdout",
       "text": [
        "\r",
        "\u001b[K    27% |########                        | 176kB 3.7MB/s eta 0:00:01\r",
        "\u001b[K    28% |#########                       | 180kB 3.6MB/s eta 0:00:01\r",
        "\u001b[K    28% |#########                       | 184kB 4.1MB/s eta 0:00:01\r",
        "\u001b[K    29% |#########                       | 188kB 4.1MB/s eta 0:00:01\r",
        "\u001b[K    30% |#########                       | 192kB 4.1MB/s eta 0:00:01\r",
        "\u001b[K    30% |#########                       | 196kB 4.1MB/s eta 0:00:01\r",
        "\u001b[K    31% |##########                      | 200kB 2.7MB/s eta 0:00:01\r",
        "\u001b[K    31% |##########                      | 204kB 2.6MB/s eta 0:00:01\r",
        "\u001b[K    32% |##########                      | 208kB 2.9MB/s eta 0:00:01\r",
        "\u001b[K    33% |##########                      | 212kB 2.9MB/s eta 0:00:01\r",
        "\u001b[K    33% |##########                      | 217kB 4.3MB/s eta 0:00:01\r",
        "\u001b[K    34% |###########                     | 221kB 4.5MB/s eta 0:00:01\r",
        "\u001b[K    35% |###########                     | 225kB 4.6MB/s eta 0:00:01\r",
        "\u001b[K    35% |###########                     | 229kB 4.6MB/s eta 0:00:01\r",
        "\u001b[K    36% |###########                     | 233kB 4.7MB/s eta 0:00:01\r",
        "\u001b[K    37% |###########                     | 237kB 4.7MB/s eta 0:00:01\r",
        "\u001b[K    37% |############                    | 241kB 4.7MB/s eta 0:00:01\r",
        "\u001b[K    38% |############                    | 245kB 4.7MB/s eta 0:00:01\r",
        "\u001b[K    38% |############                    | 249kB 4.7MB/s eta 0:00:01\r",
        "\u001b[K    39% |############                    | 253kB 4.7MB/s eta 0:00:01\r",
        "\u001b[K    40% |############                    | 258kB 4.7MB/s eta 0:00:01\r",
        "\u001b[K    40% |#############                   | 262kB 4.7MB/s eta 0:00:01\r",
        "\u001b[K    41% |#############                   | 266kB 4.7MB/s eta 0:00:01\r",
        "\u001b[K    42% |#############                   | 270kB 4.7MB/s eta 0:00:01\r",
        "\u001b[K    42% |#############                   | 274kB 4.7MB/s eta 0:00:01\r",
        "\u001b[K    43% |#############                   | 278kB 4.7MB/s eta 0:00:01\r",
        "\u001b[K    44% |##############                  | 282kB 11.0MB/s eta 0:00:01\r",
        "\u001b[K    44% |##############                  | 286kB 11.3MB/s eta 0:00:01\r",
        "\u001b[K    45% |##############                  | 290kB 10.9MB/s eta 0:00:01\r",
        "\u001b[K    46% |##############                  | 294kB 11.2MB/s eta 0:00:01\r",
        "\u001b[K    46% |##############                  | 299kB 11.4MB/s eta 0:00:01\r",
        "\u001b[K    47% |###############                 | 303kB 11.1MB/s eta 0:00:01\r",
        "\u001b[K    47% |###############                 | 307kB 11.2MB/s eta 0:00:01\r",
        "\u001b[K    48% |###############                 | 311kB 10.9MB/s eta 0:00:01\r",
        "\u001b[K    49% |###############                 | 315kB 10.9MB/s eta 0:00:01\r",
        "\u001b[K    49% |###############                 | 319kB 10.9MB/s eta 0:00:01\r",
        "\u001b[K    50% |################                | 323kB 13.5MB/s eta 0:00:01\r",
        "\u001b[K    51% |################                | 327kB 13.9MB/s eta 0:00:01\r",
        "\u001b[K    51% |################                | 331kB 6.9MB/s eta 0:00:01\r",
        "\u001b[K    52% |################                | 335kB 6.8MB/s eta 0:00:01\r",
        "\u001b[K    53% |################                | 339kB 6.9MB/s eta 0:00:01\r",
        "\u001b[K    53% |#################               | 344kB 6.9MB/s eta 0:00:01\r",
        "\u001b[K    54% |#################               | 348kB 6.8MB/s eta 0:00:01\r",
        "\u001b[K    54% |#################               | 352kB 6.9MB/s eta 0:00:01\r",
        "\u001b[K    55% |#################               | 356kB 6.9MB/s eta 0:00:01\r",
        "\u001b[K    56% |##################              | 360kB 6.8MB/s eta 0:00:01\r",
        "\u001b[K    56% |##################              | 364kB 7.7MB/s eta 0:00:01\r",
        "\u001b[K    57% |##################              | 368kB 6.1MB/s eta 0:00:01\r",
        "\u001b[K    58% |##################              | 372kB 10.8MB/s eta 0:00:01\r",
        "\u001b[K    58% |##################              | 376kB 11.0MB/s eta 0:00:01\r",
        "\u001b[K    59% |###################             | 380kB 6.6MB/s eta 0:00:01\r",
        "\u001b[K    60% |###################             | 385kB 6.4MB/s eta 0:00:01\r",
        "\u001b[K    60% |###################             | 389kB 4.3MB/s eta 0:00:01\r",
        "\u001b[K    61% |###################             | 393kB 4.0MB/s eta 0:00:01\r",
        "\u001b[K    62% |###################             | 397kB 3.9MB/s eta 0:00:01\r",
        "\u001b[K    62% |####################            | 401kB 3.9MB/s eta 0:00:01\r",
        "\u001b[K    63% |####################            | 405kB 3.9MB/s eta 0:00:01\r",
        "\u001b[K    63% |####################            | 409kB 4.4MB/s eta 0:00:01\r",
        "\u001b[K    64% |####################            | 413kB 4.6MB/s eta 0:00:01\r",
        "\u001b[K    65% |####################            | 417kB 4.6MB/s eta 0:00:01\r",
        "\u001b[K    65% |#####################           | 421kB 6.6MB/s eta 0:00:01\r",
        "\u001b[K    66% |#####################           | 425kB 6.8MB/s eta 0:00:01\r",
        "\u001b[K    67% |#####################           | 430kB 9.8MB/s eta 0:00:01\r",
        "\u001b[K    67% |#####################           | 434kB 8.1MB/s eta 0:00:01\r",
        "\u001b[K    68% |#####################           | 438kB 8.0MB/s eta 0:00:01\r",
        "\u001b[K    69% |######################          | 442kB 8.1MB/s eta 0:00:01\r",
        "\u001b[K    69% |######################          | 446kB 8.4MB/s eta 0:00:01\r",
        "\u001b[K    70% |######################          | 450kB 5.1MB/s eta 0:00:01\r",
        "\u001b[K    70% |######################          | 454kB 4.9MB/s eta 0:00:01\r",
        "\u001b[K    71% |######################          | 458kB 4.9MB/s eta 0:00:01\r",
        "\u001b[K    72% |#######################         | 462kB 4.9MB/s eta 0:00:01\r",
        "\u001b[K    72% |#######################         | 466kB 4.8MB/s eta 0:00:01\r",
        "\u001b[K    73% |#######################         | 471kB 5.8MB/s eta 0:00:01"
       ]
      },
      {
       "output_type": "stream",
       "stream": "stdout",
       "text": [
        "\r",
        "\u001b[K    74% |#######################         | 475kB 7.3MB/s eta 0:00:01\r",
        "\u001b[K    74% |#######################         | 479kB 7.4MB/s eta 0:00:01\r",
        "\u001b[K    75% |########################        | 483kB 7.5MB/s eta 0:00:01\r",
        "\u001b[K    76% |########################        | 487kB 4.5MB/s eta 0:00:01\r",
        "\u001b[K    76% |########################        | 491kB 6.7MB/s eta 0:00:01\r",
        "\u001b[K    77% |########################        | 495kB 6.7MB/s eta 0:00:01\r",
        "\u001b[K    77% |########################        | 499kB 6.8MB/s eta 0:00:01\r",
        "\u001b[K    78% |#########################       | 503kB 6.6MB/s eta 0:00:01\r",
        "\u001b[K    79% |#########################       | 507kB 6.5MB/s eta 0:00:01\r",
        "\u001b[K    79% |#########################       | 512kB 6.3MB/s eta 0:00:01\r",
        "\u001b[K    80% |#########################       | 516kB 6.2MB/s eta 0:00:01\r",
        "\u001b[K    81% |#########################       | 520kB 6.0MB/s eta 0:00:01\r",
        "\u001b[K    81% |##########################      | 524kB 6.0MB/s eta 0:00:01\r",
        "\u001b[K    82% |##########################      | 528kB 12.1MB/s eta 0:00:01\r",
        "\u001b[K    83% |##########################      | 532kB 13.1MB/s eta 0:00:01\r",
        "\u001b[K    83% |##########################      | 536kB 13.2MB/s eta 0:00:01\r",
        "\u001b[K    84% |###########################     | 540kB 13.6MB/s eta 0:00:01\r",
        "\u001b[K    85% |###########################     | 544kB 5.4MB/s eta 0:00:01\r",
        "\u001b[K    85% |###########################     | 548kB 5.3MB/s eta 0:00:01\r",
        "\u001b[K    86% |###########################     | 552kB 5.5MB/s eta 0:00:01\r",
        "\u001b[K    86% |###########################     | 557kB 5.6MB/s eta 0:00:01\r",
        "\u001b[K    87% |############################    | 561kB 5.1MB/s eta 0:00:01\r",
        "\u001b[K    88% |############################    | 565kB 5.2MB/s eta 0:00:01\r",
        "\u001b[K    88% |############################    | 569kB 4.2MB/s eta 0:00:01\r",
        "\u001b[K    89% |############################    | 573kB 4.2MB/s eta 0:00:01\r",
        "\u001b[K    90% |############################    | 577kB 4.2MB/s eta 0:00:01\r",
        "\u001b[K    90% |#############################   | 581kB 4.2MB/s eta 0:00:01\r",
        "\u001b[K    91% |#############################   | 585kB 8.1MB/s eta 0:00:01\r",
        "\u001b[K    92% |#############################   | 589kB 8.5MB/s eta 0:00:01\r",
        "\u001b[K    92% |#############################   | 593kB 8.5MB/s eta 0:00:01\r",
        "\u001b[K    93% |#############################   | 598kB 8.5MB/s eta 0:00:01\r",
        "\u001b[K    93% |##############################  | 602kB 5.7MB/s eta 0:00:01\r",
        "\u001b[K    94% |##############################  | 606kB 5.6MB/s eta 0:00:01\r",
        "\u001b[K    95% |##############################  | 610kB 7.6MB/s eta 0:00:01\r",
        "\u001b[K    95% |##############################  | 614kB 7.8MB/s eta 0:00:01\r",
        "\u001b[K    96% |##############################  | 618kB 8.0MB/s eta 0:00:01\r",
        "\u001b[K    97% |############################### | 622kB 8.0MB/s eta 0:00:01\r",
        "\u001b[K    97% |############################### | 626kB 7.3MB/s eta 0:00:01\r",
        "\u001b[K    98% |############################### | 630kB 7.4MB/s eta 0:00:01\r",
        "\u001b[K    99% |############################### | 634kB 7.3MB/s eta 0:00:01\r",
        "\u001b[K    99% |############################### | 638kB 7.3MB/s eta 0:00:01"
       ]
      },
      {
       "output_type": "stream",
       "stream": "stdout",
       "text": [
        "\r",
        "\u001b[K    100% |################################| 643kB 631kB/s \r\n"
       ]
      },
      {
       "output_type": "stream",
       "stream": "stdout",
       "text": [
        "\u001b[?25hRequirement already satisfied (use --upgrade to upgrade): nltk>=3.0 in /usr/local/lib/python2.7/site-packages (from textblob)\r\n",
        "Installing collected packages: textblob\r\n"
       ]
      },
      {
       "output_type": "stream",
       "stream": "stdout",
       "text": [
        "\r\n"
       ]
      },
      {
       "output_type": "stream",
       "stream": "stdout",
       "text": [
        "Successfully installed textblob-0.9.0\r\n"
       ]
      }
     ],
     "prompt_number": 16
    },
    {
     "cell_type": "code",
     "collapsed": false,
     "input": [
      "from textblob import TextBlob"
     ],
     "language": "python",
     "metadata": {},
     "outputs": [],
     "prompt_number": 17
    },
    {
     "cell_type": "code",
     "collapsed": false,
     "input": [
      "GATSBY_TEXT = \"\"\"In my younger and more vulnerable years my father gave me some advice that I've been turning over in my mind ever since. \"Whenever you feel like criticizing any one\", he told me, \"blah blah, blah blah blah.\" \"\"\"\n",
      "\n",
      "gatsby = TextBlob(GATSBY_TEXT)"
     ],
     "language": "python",
     "metadata": {},
     "outputs": [],
     "prompt_number": 42
    },
    {
     "cell_type": "code",
     "collapsed": false,
     "input": [
      "TextBlob(\"oh my god, I love this bootcamp, it is so awesome.\").sentiment"
     ],
     "language": "python",
     "metadata": {},
     "outputs": [
      {
       "metadata": {},
       "output_type": "pyout",
       "prompt_number": 37,
       "text": [
        "Sentiment(polarity=0.75, subjectivity=0.8)"
       ]
      }
     ],
     "prompt_number": 37
    },
    {
     "cell_type": "code",
     "collapsed": false,
     "input": [
      "gatsby.noun_phrases"
     ],
     "language": "python",
     "metadata": {},
     "outputs": [
      {
       "metadata": {},
       "output_type": "pyout",
       "prompt_number": 43,
       "text": [
        "WordList([u'vulnerable years', 'whenever', u'blah blah', u'blah blah blah'])"
       ]
      }
     ],
     "prompt_number": 43
    },
    {
     "cell_type": "code",
     "collapsed": false,
     "input": [
      "gatsby.sentiment"
     ],
     "language": "python",
     "metadata": {},
     "outputs": [
      {
       "metadata": {},
       "output_type": "pyout",
       "prompt_number": 44,
       "text": [
        "Sentiment(polarity=0.0, subjectivity=0.3333333333333333)"
       ]
      }
     ],
     "prompt_number": 44
    },
    {
     "cell_type": "code",
     "collapsed": false,
     "input": [
      "import nltk\n",
      "stemmer = nltk.stem.PorterStemmer()\n",
      "\n",
      "for word in TextBlob(\"oh my god, I was going to go to this bootcamp, it is so awesome.\").words:\n",
      "    print stemmer.stem(word)"
     ],
     "language": "python",
     "metadata": {},
     "outputs": [
      {
       "output_type": "stream",
       "stream": "stdout",
       "text": [
        "oh\n",
        "my\n",
        "god\n",
        "I\n",
        "wa\n",
        "go\n",
        "to\n",
        "go\n",
        "to\n",
        "thi\n",
        "bootcamp\n",
        "it\n",
        "is\n",
        "so\n",
        "awesom\n"
       ]
      }
     ],
     "prompt_number": 41
    },
    {
     "cell_type": "code",
     "collapsed": false,
     "input": [
      "for word,count in sorted(gatsby.word_counts.items(), key=lambda item: item[1], reverse=True):\n",
      "    print \"%15s\""
     ],
     "language": "python",
     "metadata": {},
     "outputs": []
    },
    {
     "cell_type": "code",
     "collapsed": false,
     "input": [
      "from collections import Counter\n",
      "\n",
      "stemmer = nltk.stem.porter.PorterStemmer()\n",
      "stem_counts = Counter()\n",
      "\n",
      "for word in gatsby.words:\n",
      "    stem = stemmer.stem(word)\n",
      "    stem_counts[stem] +=1\n",
      "    \n",
      "for stem in stem_counts.most_common(100):\n",
      "    print stem"
     ],
     "language": "python",
     "metadata": {},
     "outputs": [
      {
       "output_type": "stream",
       "stream": "stdout",
       "text": [
        "(u'blah', 5)\n",
        "(u'my', 3)\n",
        "(u'me', 2)\n",
        "(u'and', 1)\n",
        "(u'feel', 1)\n",
        "(u'over', 1)\n",
        "(u'year', 1)\n",
        "(u'mind', 1)\n",
        "(u'ani', 1)\n",
        "(u'one', 1)\n",
        "(u'critic', 1)\n",
        "(u'in', 1)\n",
        "(u'advic', 1)\n",
        "(u'Whenev', 1)\n",
        "(u'father', 1)\n",
        "(u'been', 1)\n",
        "(u'vulner', 1)\n",
        "(u'ever', 1)\n",
        "(u'gave', 1)\n",
        "(u'that', 1)\n",
        "(u'I', 1)\n",
        "(u'some', 1)\n",
        "(u'you', 1)\n",
        "(u'sinc', 1)\n",
        "(u'he', 1)\n",
        "(u'younger', 1)\n",
        "(u'like', 1)\n",
        "(u'told', 1)\n",
        "(u\"'ve\", 1)\n",
        "(u'turn', 1)\n",
        "(u'In', 1)\n",
        "(u'more', 1)\n"
       ]
      }
     ],
     "prompt_number": 45
    },
    {
     "cell_type": "code",
     "collapsed": false,
     "input": [],
     "language": "python",
     "metadata": {},
     "outputs": []
    },
    {
     "cell_type": "code",
     "collapsed": false,
     "input": [],
     "language": "python",
     "metadata": {},
     "outputs": []
    },
    {
     "cell_type": "code",
     "collapsed": false,
     "input": [],
     "language": "python",
     "metadata": {},
     "outputs": []
    },
    {
     "cell_type": "code",
     "collapsed": false,
     "input": [],
     "language": "python",
     "metadata": {},
     "outputs": []
    },
    {
     "cell_type": "code",
     "collapsed": false,
     "input": [
      "consumer_key = \"Xj4Xbph5rstwLgEuUXY8tugpz\"\n",
      "consumer_secret = \"jfjAKLx2vOwKR4a7fOPeWIEzwgH2JbRLDq0G5duJdVnWcNAXLR\"\n",
      "access_token = \"249061702-eJnbhA4qDZFWWRq517NBvGVzCconkiRfQfwVlGT4\"\n",
      "access_secret = \"ryI0rltBukG9moFuJLPnJQxhJYXXkzt2vHRebo9qTaUoE\""
     ],
     "language": "python",
     "metadata": {},
     "outputs": []
    },
    {
     "cell_type": "code",
     "collapsed": false,
     "input": [
      "import requests\n",
      "from requests_oauthlib import OAuth1\n",
      "\n",
      "\n",
      "oauth = OAuth1(consumer_key, \n",
      "                client_secret=consumer_secret,\n",
      "                resource_owner_key=access_token, \n",
      "                resource_owner_secret = access_secret)"
     ],
     "language": "python",
     "metadata": {},
     "outputs": []
    },
    {
     "cell_type": "code",
     "collapsed": false,
     "input": [
      "response = requests.get(\"https://api.twitter.com/1.1/statuses/user_timeline.json\", auth=oauth)\n",
      "#print response.text\n",
      "tweets =response.json()\n",
      "\n"
     ],
     "language": "python",
     "metadata": {},
     "outputs": []
    },
    {
     "cell_type": "code",
     "collapsed": false,
     "input": [
      "# search_url = \"https://api.twitter.com/1.1/search/tweets.json\"\n",
      "\n",
      "# parameters = {\"q\": \"bitcoin\", \"count\":100}\n",
      "# response = requests.get(search_url, params=parameters, auth=oauth)\n",
      "# tweets = response.json()['statuses']\n",
      "\n",
      "# count =0 \n",
      "# print 'Page 1'\n",
      "# for tweet in tweets:\n",
      "#     count += 1\n",
      "#     print count, tweet[\"text\"]\n",
      "    \n",
      "# next_page_url = search_url +response.json()[\"search_metadata\"][\"next_results\"]\n",
      "# response = requests.get(next_page_url, auth=oauth)\n",
      "\n",
      "# print 'Page 2'\n",
      "# for tweet in response.json()[\"statuses\"]:\n",
      "#     count+= 1\n",
      "#     print count,tweet[\"text\"]\n",
      "#     print"
     ],
     "language": "python",
     "metadata": {},
     "outputs": [],
     "prompt_number": 17
    },
    {
     "cell_type": "code",
     "collapsed": false,
     "input": [
      "#!pip install tweepy"
     ],
     "language": "python",
     "metadata": {},
     "outputs": [
      {
       "output_type": "stream",
       "stream": "stdout",
       "text": [
        "\u001b[33mYou are using pip version 6.0.7, however version 6.0.8 is available.\r\n",
        "You should consider upgrading via the 'pip install --upgrade pip' command.\u001b[0m\r\n"
       ]
      },
      {
       "output_type": "stream",
       "stream": "stdout",
       "text": [
        "Collecting tweepy\r\n"
       ]
      },
      {
       "output_type": "stream",
       "stream": "stdout",
       "text": [
        "  Downloading tweepy-3.3.0-py2.py3-none-any.whl\r\n"
       ]
      },
      {
       "output_type": "stream",
       "stream": "stdout",
       "text": [
        "Requirement already satisfied (use --upgrade to upgrade): requests>=2.4.3 in /usr/local/lib/python2.7/site-packages (from tweepy)\r\n",
        "Requirement already satisfied (use --upgrade to upgrade): six>=1.7.3 in /usr/local/lib/python2.7/site-packages (from tweepy)\r\n",
        "Requirement already satisfied (use --upgrade to upgrade): requests-oauthlib>=0.4.1 in /usr/local/lib/python2.7/site-packages (from tweepy)\r\n",
        "Requirement already satisfied (use --upgrade to upgrade): oauthlib>=0.6.2 in /usr/local/lib/python2.7/site-packages (from requests-oauthlib>=0.4.1->tweepy)\r\n"
       ]
      },
      {
       "output_type": "stream",
       "stream": "stdout",
       "text": [
        "Installing collected packages: tweepy\r\n"
       ]
      },
      {
       "output_type": "stream",
       "stream": "stdout",
       "text": [
        "\r\n",
        "Successfully installed tweepy-3.3.0\r\n"
       ]
      }
     ],
     "prompt_number": 18
    },
    {
     "cell_type": "code",
     "collapsed": false,
     "input": [
      "import tweepy\n",
      "\n",
      "auth = tweepy.OAuthHandler(consumer_key, consumer_secret)\n",
      "auth.set_access_token(access_token, access_secret)\n",
      "\n",
      "api = tweepy.API(auth)"
     ],
     "language": "python",
     "metadata": {},
     "outputs": [],
     "prompt_number": 7
    },
    {
     "cell_type": "code",
     "collapsed": false,
     "input": [
      "justins_tweets = api.user_timeline(\"sama\", count=100)\n",
      "\n",
      "for tweet in justins_tweets:\n",
      "    print tweet.text\n",
      "    print"
     ],
     "language": "python",
     "metadata": {},
     "outputs": [
      {
       "output_type": "stream",
       "stream": "stdout",
       "text": [
        "after the surprisingly strong reaction to my AI post on HN, i'm glad i left the actually controversial part out!\n",
        "\n",
        ".@mkapor i believe the threats around job destruction, income inequality, and concentration of power are guaranteed: http://t.co/ci4eZC56jR\n",
        "\n",
        "more YC energy investing! http://t.co/dhAoK4wqRa\n",
        "\n",
        "@floryanscherer physics being somehow booby-trapped, the simulation hypothesis, and planet-destroying war\n",
        "\n",
        ".@allworldcaucasn if that doubles every year, it will take 29 years to be &gt;86 billion\n",
        "\n",
        "@pmarca @paulg @jake_gold @dbasch i have never understood the constant shitting on netscape as a complete failure\n",
        "\n",
        "\"there is something magic about the circuits in my brain; no machine will ever be able to emulate them\"\n",
        "\n",
        "Machine intelligence, part 1: http://t.co/4aTf3XKE3f\n",
        "\n",
        "@paulg i think it should be doable in just 10 minutes.  if i have a lot of prep time, maybe i can do it in 8.\n",
        "\n",
        "if i ever teach a startup course again, i am going to do one whole class on how to be concise and clear\n",
        "\n",
        "Congrats to @Pebble on selling more than $7MM of the pebble time in less than 12 hours!\n",
        "\n",
        "US policy: bring smart people to our universities, teach them desperately needed engineering skills, and then kick them out\n",
        "\n",
        "@ilyasu i didn't; its the average\n",
        "\n",
        "@harryh @rabois ok!\n",
        "\n",
        "consensus view of 10 friends on the year the last taxi drives on the streets of SF: 2018\n",
        "\n",
        "RT @yuris: Where to start up a startup: https://t.co/02oZfKFwEn\n",
        "\n",
        "wow, the pebble time looks awesome\n",
        "\n",
        "the end of the road for silicon: http://t.co/oZZbszIB9y\n",
        "\n",
        "this is IMO the key graph to watch for bitcoin adoption: https://t.co/8LVBSbrwbe (and yeah, sidechains aren't fully counted etc etc)\n",
        "\n",
        ".@brian_armstrong but because there is so little actual bitcoin usage still, i think it's still possible for something better to emerge.\n",
        "\n",
        ".@brian_armstrong if you're right, it won't require statements like this.  when the network effect is really strong, everyone will focus.\n",
        "\n",
        "RT @garrytan: 1st time founders are always surprised by how much more work startups demand\u201410X the work/school projects that are the closes\u2026\n",
        "\n",
        "RT @mwseibel: Watch the videos from the YC Female Founders Conference https://t.co/ZgtJnJSpS4\n",
        "\n",
        "has anyone else noticed that the autocomplete for addresses in gmail has gotten horrendously bad recently?\n",
        "\n",
        "@karlnieb (i.e. when a new batch starts, the managing directors divide up equally the equity for that new batch. lets ppl come/go.)\n",
        "\n",
        "3) we also reset equity every batch. these things together should mean that YC is going to be around for a very, very long time :)\n",
        "\n",
        "2) so we don't face the usual problem of not enough economic incentive to keep great people around\n",
        "\n",
        "1) interesting feature of Y Combinator: though most companies slow down in valuation growth as they get older, YC speeds up\n",
        "\n",
        "RT @ilikevests: Feeling really grateful about the startups and founders I get to work with at YC.\n",
        "\n",
        "Sunday night reading http://t.co/Kt8bP8lDks\n",
        "\n",
        "RT @paulg: An Open Letter to Jessica Livingston: http://t.co/smAlz4e5fY\n",
        "\n",
        "RT @ilikevests: I'm always so impressed with how @nolimits can do her talks with no notes and slides. #femalefounders http://t.co/yhOSvmkJ2u\n",
        "\n",
        "Watch Jessica Livingston speaking on the #femalefounders livestream right now: http://t.co/tZWyGrKLlt\n",
        "\n",
        "for my whole life I have thought sudo meant \"superuser do\" but it is actually \"substitute user do\"!\n",
        "\n",
        "the single worst thing about the internet is absolute destruction of attention spans\n",
        "\n",
        "The finance sector and growth: http://t.co/PpmwNUHxcH\n",
        "\n",
        "Startup advice, briefly: http://t.co/2K0MQU4rgr\n",
        "\n",
        "new example YC application videos (Campus Job, Zenefits, Teespring, AeroFS): https://t.co/ZSv6tCiJ4P\n",
        "\n",
        "most interesting thing about this chart of the most valuable private tech cos: the top 2 are worth &gt; the bottom 50. http://t.co/toYsX4eZGL\n",
        "\n",
        "@danielpsegundo yes i was a CS major (dropped out for YC)\n",
        "\n",
        "9) and that usually comes right at the wrong time--ie, right when you're running out of money\n",
        "\n",
        "8) while it's true that if everything is going amazing well a high burn rate won't hurt much, most startups go through a trough of sorrow\n",
        "\n",
        "7) anyway, founders would do well to remember that having an almost comically low burn in the early days work more often than the opposite\n",
        "\n",
        "6) founders seem to think \"well we need money and the press loves us, so we'll be able to raise more for sure\"\n",
        "\n",
        "5) this meets cold reality when companies try to raise money again w/little traction and a $150k a month burn rate--often means death\n",
        "\n",
        "4) and seed money is so easy to raise in the current environment that founders assume they can just raise more money whenever they want\n",
        "\n",
        "3) but every small increase in burn ramps up the company's willingness to spend in subtle ways\n",
        "\n",
        "2) it ends up being especially bad for startups where either the founders need big salaries or are non-technical and need to hire right away\n",
        "\n",
        "1) \"keep your burn rate very low\" is one of those unteachable lessons for early-stage startups\n",
        "\n",
        ".@dmac1 what does this list look like if you only count entry valuations below $50mm?\n",
        "\n",
        "RT @paulg: Re-reading Cipolla's amazing Guns, Sails and Empires. An indictment of publishing that it's out of print. http://t.co/hKKG9Ox8hT\n",
        "\n",
        "@paulg i just read this on your recommendation.  it was excellent!\n",
        "\n",
        "@ArlanWasHere that wasn't clear--i meant either passing on a good company, or funding a bad company.\n",
        "\n",
        "whoa--all the big mistakes i made (good and bad) when i was angel investing were when i got swayed by the opinion of another investor.\n",
        "\n",
        "@pmarca i guess it was a holiday, so no need to apologize for slacking a bit.\n",
        "\n",
        "@semil there are currently 22 on my list\n",
        "\n",
        "@davemcclure @dcurtis @rabois @tommyrva @mattocko i honestly hope you guys produce many!  (and that we get more, of course)\n",
        "\n",
        "@octal @davemcclure that would fail i'm pretty sure.  important to develop a community with some in person time.\n",
        "\n",
        "@davemcclure @dcurtis @rabois @tommyrva @mattocko v different when you aren't around a bunch of other startups.  you're still your own thing\n",
        "\n",
        "@dcurtis @rabois @davemcclure @tommyrva @mattocko and i dont think the only difference is coworking (obviously) but it is a _big_ one\n",
        "\n",
        "@dcurtis @rabois @davemcclure @tommyrva @mattocko i believe the stats are that YC has produced 6, and no other accelerator had produced any\n",
        "\n",
        "@davemcclure but you do you, as the kids say :)\n",
        "\n",
        "@davemcclure i think the YC community is its strongest aspect. all sitting together in an office all day is not the only way to build it.\n",
        "\n",
        ".@tqbf (and, bucking the trend, i will include a suggestion of what to do about it instead of just worrying!)\n",
        "\n",
        ".@tqbf i guess i sort of just assumed everyone believes the threat is real at this point.  i'll try to write up an overview soon\n",
        "\n",
        "i am generally not a fan of giving secrets to competitors, but in this case, it would help the world so much i'm happy to share.\n",
        "\n",
        "nearly everyone that tries to copy YC includes either a coworking or shared living space. not doing this is part of what makes YC work.\n",
        "\n",
        "it's satisfying when the smartest people you know email about a post saying \"that was great\" and the non-smart ones say \"that was terrible\"\n",
        "\n",
        "The Software Revolution: http://t.co/ci4eZCmHbp\n",
        "\n",
        "stressful thing about early-stage investing is that making a bad investment can't hurt your career much, but passing on one great one can.\n",
        "\n",
        "@sacca definitely wouldn't say it way--certainly agree it won't come from that mindset.\n",
        "\n",
        "tempted to write a YC RFS for a successor to Twitter. even with the network effect, this doesn't feel like the last company in the space.\n",
        "\n",
        "what tech companies worth $5B+ have started in new york other than bloomberg?\n",
        "\n",
        "congrats to @MachineZone on hitting the #1 top grossing game in the App Store! http://t.co/1VA7VADuNt\n",
        "\n",
        "i think @moskov and @CariTuna are doing some of the most interesting/important work in silicon valley with good ventures\n",
        "\n",
        "Open-source sales agreement: http://t.co/tOuCjaMmwM\n",
        "\n",
        "one of the most critical things for startups to do, from @gralston: http://t.co/gSeeT8tDZS\n",
        "\n",
        "China: http://t.co/WxbCmVi6qB\n",
        "\n",
        "at least once when thinking about an investment opportunity, ignore why it might fail and think about how big it could be if worked.\n",
        "\n",
        "PSA: if you have a very high fever, watch a scary movie, and then take a nap, you will have some really disturbing fever dreams.\n",
        "\n",
        "FarmLogs: http://t.co/20FcGweTka\n",
        "\n",
        "@TerezaN @josephsirosh @Azure @ycombinator i turn 30 in a few months\n",
        "\n",
        "RT @StevenGuggs: @sama We're really pleased to spend the day with you @ycombinator to talk about the great things we can do together! @scot\u2026\n",
        "\n",
        "$500k of Azure credit for YC startups: http://t.co/WWyJhsUtQn\n",
        "\n",
        "@sama (per company)\n",
        "\n",
        "the value of service credits/free products offered to YC companies is now over $1,000,000!\n",
        "\n",
        "YC for Hardware: http://t.co/ZnjLCEUbx1\n",
        "\n",
        "thanks to @pulakm for this awesome new site: http://t.co/7AczAlErjG\n",
        "\n",
        "congrats to @andrewmason on the launch of @Detour!  check it out here: https://t.co/VNuaHUpPAd\n",
        "\n",
        "\"Every tragedy ever can be reduced to two words: 'potential, lost.'\"\n",
        "\n",
        "i've ridden in uber and i own some uber shares through a fund--by this logic, we should count uber as a YC company!: http://t.co/VJHBVS4YfK\n",
        "\n",
        "coming out of my twitter blackout for one tweet only to say CONGRATS @levie and @BoxHQ!\n",
        "\n",
        "Demo Days: http://t.co/HyNoziXw3X\n",
        "\n",
        "YC Demographics http://t.co/QIbErrVy3c (via @mwseibel)\n",
        "\n",
        "Policy for Growth and Innovation: http://t.co/LJyGQ6nIuF\n",
        "\n",
        "the entire lifecycle of outrage on the internet seems to shorten every year. this is bad in so many ways.\n",
        "\n",
        "asked for my number 1 productivity hack for 2015: \"severely limit tv show and Internet time\"\n",
        "\n",
        "the days are long but the years are short\n",
        "\n",
        "@Its_Fitz i'm a poker player :)\n",
        "\n",
        "it tilts me when mediocre VCs brag about how they will never meet a founder without an intro.\n",
        "\n"
       ]
      }
     ],
     "prompt_number": 12
    },
    {
     "cell_type": "code",
     "collapsed": false,
     "input": [
      "query = \"bitcoin\"\n",
      "max_tweets = 300\n",
      "\n",
      "search_results = tweepy.Cursor(api.search, q=query).items(max_tweets)\n",
      "\n",
      "# for i, tweet in enumerate(search_results):\n",
      "#     print i, tweet.text\n",
      "#     print"
     ],
     "language": "python",
     "metadata": {},
     "outputs": [],
     "prompt_number": 6
    },
    {
     "cell_type": "code",
     "collapsed": false,
     "input": [
      "api.get_user(sama)"
     ],
     "language": "python",
     "metadata": {},
     "outputs": [
      {
       "ename": "NameError",
       "evalue": "name 'sama' is not defined",
       "output_type": "pyerr",
       "traceback": [
        "\u001b[0;31m---------------------------------------------------------------------------\u001b[0m\n\u001b[0;31mNameError\u001b[0m                                 Traceback (most recent call last)",
        "\u001b[0;32m<ipython-input-9-8ff5ee822e33>\u001b[0m in \u001b[0;36m<module>\u001b[0;34m()\u001b[0m\n\u001b[0;32m----> 1\u001b[0;31m \u001b[0mapi\u001b[0m\u001b[0;34m.\u001b[0m\u001b[0mget_user\u001b[0m\u001b[0;34m(\u001b[0m\u001b[0msama\u001b[0m\u001b[0;34m)\u001b[0m\u001b[0;34m\u001b[0m\u001b[0m\n\u001b[0m",
        "\u001b[0;31mNameError\u001b[0m: name 'sama' is not defined"
       ]
      }
     ],
     "prompt_number": 9
    }
   ],
   "metadata": {}
  }
 ]
}