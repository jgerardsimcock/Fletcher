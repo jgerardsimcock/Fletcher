{
 "metadata": {
  "name": "",
  "signature": "sha256:184df7259e238ec2568a17caaefcf55b5c41cf9a0ea4d517db1b0d4177ec79bb"
 },
 "nbformat": 3,
 "nbformat_minor": 0,
 "worksheets": [
  {
   "cells": [
    {
     "cell_type": "code",
     "collapsed": false,
     "input": [
      "%matplotlib inline\n",
      "import pickle\n",
      "import pymongo\n",
      "from pymongo import MongoClient\n",
      "import matplotlib.pyplot as plt\n",
      "import seaborn as sns\n",
      "from pandas import Series\n",
      "import numpy as np\n",
      "\n",
      "client = MongoClient()\n",
      "\n",
      "\n",
      "with open(\"heavy_metal_parsed.pkl\", 'r') as datafile:\n",
      "    heavy_metal_reviews = pickle.load(datafile)\n",
      "    \n"
     ],
     "language": "python",
     "metadata": {},
     "outputs": [],
     "prompt_number": 185
    },
    {
     "cell_type": "code",
     "collapsed": false,
     "input": [
      "heavy_metal_reviews[0].keys()\n",
      "hmm =client.dsbc.hmm\n",
      "hmm.insert(heavy_metal_reviews[0])"
     ],
     "language": "python",
     "metadata": {},
     "outputs": [
      {
       "metadata": {},
       "output_type": "pyout",
       "prompt_number": 60,
       "text": [
        "ObjectId('54ecc74d47d17c258a8f2110')"
       ]
      }
     ],
     "prompt_number": 60
    },
    {
     "cell_type": "code",
     "collapsed": false,
     "input": [
      "#hmm.find().next()"
     ],
     "language": "python",
     "metadata": {},
     "outputs": [],
     "prompt_number": 68
    },
    {
     "cell_type": "code",
     "collapsed": false,
     "input": [
      "for review in heavy_metal_reviews[1:]:\n",
      "    hmm.save(review)\n",
      "  "
     ],
     "language": "python",
     "metadata": {},
     "outputs": [],
     "prompt_number": 64
    },
    {
     "cell_type": "code",
     "collapsed": false,
     "input": [
      "cursor = hmm.find()"
     ],
     "language": "python",
     "metadata": {},
     "outputs": [],
     "prompt_number": 65
    },
    {
     "cell_type": "code",
     "collapsed": false,
     "input": [
      "len(list(cursor))"
     ],
     "language": "python",
     "metadata": {},
     "outputs": [
      {
       "metadata": {},
       "output_type": "pyout",
       "prompt_number": 66,
       "text": [
        "1712"
       ]
      }
     ],
     "prompt_number": 66
    },
    {
     "cell_type": "code",
     "collapsed": false,
     "input": [
      "hmm.count()"
     ],
     "language": "python",
     "metadata": {},
     "outputs": [
      {
       "metadata": {},
       "output_type": "pyout",
       "prompt_number": 67,
       "text": [
        "1712"
       ]
      }
     ],
     "prompt_number": 67
    },
    {
     "cell_type": "code",
     "collapsed": false,
     "input": [
      "movie_years = []\n",
      "for row in hmm.find():\n",
      "    year = row['year']\n",
      "    movie_years.append(year)\n",
      "\n",
      "\n"
     ],
     "language": "python",
     "metadata": {},
     "outputs": [],
     "prompt_number": 99
    },
    {
     "cell_type": "code",
     "collapsed": false,
     "input": [
      "plt.hist(movie_years)\n"
     ],
     "language": "python",
     "metadata": {},
     "outputs": [
      {
       "metadata": {},
       "output_type": "pyout",
       "prompt_number": 117,
       "text": [
        "(array([   6.,   12.,   18.,    8.,   22.,  132.,  478.,  440.,  212.,  384.]),\n",
        " array([ 1910. ,  1920.3,  1930.6,  1940.9,  1951.2,  1961.5,  1971.8,\n",
        "         1982.1,  1992.4,  2002.7,  2013. ]),\n",
        " <a list of 10 Patch objects>)"
       ]
      },
      {
       "metadata": {},
       "output_type": "display_data",
       "png": "[encoded data removed]",
       "text": [
        "<matplotlib.figure.Figure at 0x112a1fe50>"
       ]
      }
     ],
     "prompt_number": 117
    },
    {
     "cell_type": "code",
     "collapsed": false,
     "input": [
      "movie_years_mdb = [year['year'] for year in hmm.find( {}, {'year': 1, '_id':0})]\n",
      "\n",
      "# for year in hmm.find( {}, {'year': 1, '_id':0}):\n",
      "#      movie_years_mdb.append(year['year'])\n",
      "    \n"
     ],
     "language": "python",
     "metadata": {},
     "outputs": [],
     "prompt_number": 153
    },
    {
     "cell_type": "code",
     "collapsed": false,
     "input": [
      "plt.hist(movie_years_mdb)"
     ],
     "language": "python",
     "metadata": {},
     "outputs": [
      {
       "metadata": {},
       "output_type": "pyout",
       "prompt_number": 155,
       "text": [
        "(array([   6.,   12.,   18.,    8.,   22.,  132.,  478.,  440.,  212.,  384.]),\n",
        " array([ 1910. ,  1920.3,  1930.6,  1940.9,  1951.2,  1961.5,  1971.8,\n",
        "         1982.1,  1992.4,  2002.7,  2013. ]),\n",
        " <a list of 10 Patch objects>)"
       ]
      },
      {
       "metadata": {},
       "output_type": "display_data",
       "png": "[encoded data removed]",
       "text": [
        "<matplotlib.figure.Figure at 0x11348e990>"
       ]
      }
     ],
     "prompt_number": 155
    },
    {
     "cell_type": "code",
     "collapsed": false,
     "input": [
      "cast = [cast['cast'] for cast in hmm.find( {}, {'cast': 1, '_id':0})]\n",
      "\n",
      "actors = []\n",
      "for row in cast:\n",
      "    for actor in row:\n",
      "        actors.append(actor)\n",
      "        \n"
     ],
     "language": "python",
     "metadata": {},
     "outputs": [],
     "prompt_number": 196
    },
    {
     "cell_type": "code",
     "collapsed": false,
     "input": [
      "from collections import Counter"
     ],
     "language": "python",
     "metadata": {},
     "outputs": [],
     "prompt_number": 179
    },
    {
     "cell_type": "code",
     "collapsed": false,
     "input": [
      "actor_counter = Counter(actors)\n",
      "\n",
      "#actor_counter\n",
      "sorted(actor_counter, key=actor_counter.get, reverse=True)[:10]"
     ],
     "language": "python",
     "metadata": {},
     "outputs": [
      {
       "metadata": {},
       "output_type": "pyout",
       "prompt_number": 224,
       "text": [
        "[u'',\n",
        " u'Alice Cooper',\n",
        " u'Christopher Lee',\n",
        " u'Arnold Schwarzenegger',\n",
        " u'Ozzy Osbourne',\n",
        " u'Peter Cushing',\n",
        " u'Vincent Price',\n",
        " u'Gwar',\n",
        " u'Robert Englund',\n",
        " u'Metallica']"
       ]
      }
     ],
     "prompt_number": 224
    },
    {
     "cell_type": "code",
     "collapsed": false,
     "input": [
      "title = [title['title'] for title in hmm.find( {}, {'title': 1, '_id':0})]\n",
      "\n",
      "\n",
      "for row in title:\n",
      "    row = (row.encode('utf-8'))\n",
      "    print row\n",
      "        \n",
      "    \n",
      "    "
     ],
     "language": "python",
     "metadata": {},
     "outputs": [
      {
       "output_type": "stream",
       "stream": "stdout",
       "text": [
        "ARISE: THE SRI LANKAN METAL MUSIC DOCUMENTARY\n",
        "200 MOTELS\n",
        "300\n",
        "1984\n",
        "1990: BRONX WARRIORS\n",
        "1991: THE YEAR PUNK BROKE\n",
        "2001: A SPACE ODYSSEY\n",
        "2019: AFTER THE FALL OF NEW YORK\n",
        "2020 TEXAS GLADIATORS\n",
        "THE ABOMINABLE DR. PHIBES\n",
        "ABSURD\n"
       ]
      },
      {
       "ename": "UnicodeEncodeError",
       "evalue": "'ascii' codec can't encode character u'\\u2026' in position 0: ordinal not in range(128)",
       "output_type": "pyerr",
       "traceback": [
        "\u001b[0;31m---------------------------------------------------------------------------\u001b[0m\n\u001b[0;31mUnicodeEncodeError\u001b[0m                        Traceback (most recent call last)",
        "\u001b[0;32m<ipython-input-246-00b89a3597c3>\u001b[0m in \u001b[0;36m<module>\u001b[0;34m()\u001b[0m\n\u001b[1;32m      3\u001b[0m \u001b[0;34m\u001b[0m\u001b[0m\n\u001b[1;32m      4\u001b[0m \u001b[0;32mfor\u001b[0m \u001b[0mrow\u001b[0m \u001b[0;32min\u001b[0m \u001b[0mtitle\u001b[0m\u001b[0;34m:\u001b[0m\u001b[0;34m\u001b[0m\u001b[0m\n\u001b[0;32m----> 5\u001b[0;31m     \u001b[0mrow\u001b[0m \u001b[0;34m=\u001b[0m \u001b[0;34m(\u001b[0m\u001b[0mrow\u001b[0m\u001b[0;34m.\u001b[0m\u001b[0mdecode\u001b[0m\u001b[0;34m(\u001b[0m\u001b[0;34m'unicode_escape'\u001b[0m\u001b[0;34m)\u001b[0m\u001b[0;34m.\u001b[0m\u001b[0mencode\u001b[0m\u001b[0;34m(\u001b[0m\u001b[0;34m'ascii'\u001b[0m\u001b[0;34m,\u001b[0m\u001b[0;34m'ignore'\u001b[0m\u001b[0;34m)\u001b[0m\u001b[0;34m)\u001b[0m\u001b[0;34m\u001b[0m\u001b[0m\n\u001b[0m\u001b[1;32m      6\u001b[0m     \u001b[0;32mprint\u001b[0m \u001b[0mrow\u001b[0m\u001b[0;34m\u001b[0m\u001b[0m\n\u001b[1;32m      7\u001b[0m \u001b[0;34m\u001b[0m\u001b[0m\n",
        "\u001b[0;31mUnicodeEncodeError\u001b[0m: 'ascii' codec can't encode character u'\\u2026' in position 0: ordinal not in range(128)"
       ]
      }
     ],
     "prompt_number": 246
    },
    {
     "cell_type": "code",
     "collapsed": false,
     "input": [],
     "language": "python",
     "metadata": {},
     "outputs": []
    }
   ],
   "metadata": {}
  }
 ]
}