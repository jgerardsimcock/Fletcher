{
 "metadata": {
  "name": "",
  "signature": "sha256:64c9897f5a3d037f1d600bd6b3d231f0039bba1e2e7eb7c19935df02cab09dc3"
 },
 "nbformat": 3,
 "nbformat_minor": 0,
 "worksheets": [
  {
   "cells": [
    {
     "cell_type": "heading",
     "level": 1,
     "metadata": {},
     "source": [
      "Data Collection Machine"
     ]
    },
    {
     "cell_type": "code",
     "collapsed": false,
     "input": [
      "from functools import partial\n",
      "from sys import maxint\n",
      "import sys\n",
      "import time\n",
      "from urllib2 import URLError\n",
      "from httplib import BadStatusLine\n",
      "import json\n",
      "import twitter # pip install twitter\n",
      "import pymongo # pip install pymongo"
     ],
     "language": "python",
     "metadata": {},
     "outputs": [],
     "prompt_number": 18
    },
    {
     "cell_type": "code",
     "collapsed": false,
     "input": [
      "def oauth_login():\n",
      "    #we need our credentials for our login\n",
      "    \n",
      "    CONSUMER_KEY = 'Xj4Xbph5rstwLgEuUXY8tugpz'\n",
      "    CONSUMER_SECRET = 'jfjAKLx2vOwKR4a7fOPeWIEzwgH2JbRLDq0G5duJdVnWcNAXLR'\n",
      "    OAUTH_TOKEN = '249061702-eJnbhA4qDZFWWRq517NBvGVzCconkiRfQfwVlGT4'\n",
      "    OAUTH_TOKEN_SECRET = 'ryI0rltBukG9moFuJLPnJQxhJYXXkzt2vHRebo9qTaUoE'\n",
      "    \n",
      "    auth = twitter.oauth.OAuth(OAUTH_TOKEN, OAUTH_TOKEN_SECRET,\n",
      "                               CONSUMER_KEY, CONSUMER_SECRET)\n",
      "    \n",
      "    twitter_api = twitter.Twitter(auth=auth)\n",
      "    return twitter_api"
     ],
     "language": "python",
     "metadata": {},
     "outputs": [],
     "prompt_number": 19
    },
    {
     "cell_type": "code",
     "collapsed": false,
     "input": [
      "\n",
      "\n",
      "def make_twitter_request(twitter_api_func, max_errors=10, *args, **kw):\n",
      "        #There will be many possible errors so we need to handle those \n",
      "    \n",
      "    def handle_twitter_http_error(error, wait_period=2, sleep_when_rate_limited=True):\n",
      "            \n",
      "            if wait_period > 3600: # Seconds\n",
      "                print >> sys.stderr, 'Too many retries. Quitting.'\n",
      "                raise e\n",
      "                \n",
      "            if e.e.code == 401:\n",
      "                print >> sys.stderr, 'Encountered 401 Error (Not Authorized)'\n",
      "                return None\n",
      "            \n",
      "            elif e.e.code == 404:\n",
      "                print >> sys.stderr, 'Encountered 404 Error (Not Found)'\n",
      "                return None\n",
      "            elif e.e.code == 429: \n",
      "                print >> sys.stderr, 'Encountered 429 Error (Rate Limit Exceeded)'\n",
      "                if sleep_when_rate_limited:\n",
      "                    print >> sys.stderr, \"Sleeping for 15 minutes, and then I'll try again...ZzZ...\"\n",
      "                    sys.stderr.flush()\n",
      "                    time.sleep(60*15 + 5)\n",
      "                    print >> sys.stderr, '...ZzZ...Awake now and trying again.'\n",
      "                    return 2\n",
      "                else:\n",
      "                    raise e # Allow user to handle the rate limiting issue however they'd like \n",
      "            \n",
      "            elif e.e.code in (500, 502, 503, 504):\n",
      "                print >> sys.stderr, 'Encountered %i Error. Will retry in %i seconds' % (e.e.code,\n",
      "                    wait_period)\n",
      "                time.sleep(wait_period)\n",
      "                wait_period *= 1.5\n",
      "                return wait_period\n",
      "            else:\n",
      "                raise e\n",
      "\n",
      "    wait_period = 2 \n",
      "    error_count = 0\n",
      "    \n",
      "    while True:\n",
      "        try:\n",
      "            return twitter_api_func(*args, **kw)\n",
      "        except twitter.api.TwitterHTTPError, e:\n",
      "            error_count = 0 \n",
      "            wait_period = handle_twitter_http_error(e, wait_period)\n",
      "            if wait_period is None:\n",
      "                return\n",
      "        except URLError, e:\n",
      "            error_count += 1\n",
      "            print >> sys.stderr, \"URLError encountered. Continuing.\"\n",
      "            if error_count > max_errors:\n",
      "                print >> sys.stderr, \"Too many consecutive errors...bailing out.\"\n",
      "                raise\n",
      "        except BadStatusLine, e:\n",
      "            error_count += 1\n",
      "            print >> sys.stderr, \"BadStatusLine encountered. Continuing.\"\n",
      "            if error_count > max_errors:\n",
      "                print >> sys.stderr, \"Too many consecutive errors...bailing out.\"\n",
      "                raise\n",
      "                \n",
      "def store_friends_followers_ids(twitter_api, screen_name=None, user_id=None,\n",
      "                              friends_limit=maxint, followers_limit=maxint, database=None):\n",
      "    \n",
      "    assert (screen_name != None) != (user_id != None), \"Must have screen_name or user_id, but not both\"\n",
      "    \n",
      "    print \"about to make partial call\"\n",
      "    #get_friends_ids = partial(make_twitter_request, twitter_api.friends.ids, count=5000)\n",
      "    get_followers_ids = partial(make_twitter_request, twitter_api.followers.ids, count=5000)\n",
      "    \n",
      "    for twitter_api_func, limit, label in [\n",
      "                                 #[get_friends_ids, friends_limit, \"friends\"], \n",
      "                                 [get_followers_ids, followers_limit, \"followers\"]\n",
      "                             ]:\n",
      "        \n",
      "        if limit == 0: continue\n",
      "        \n",
      "        total_ids = 0\n",
      "        cursor = -1\n",
      "        \n",
      "        \n",
      "        while cursor != 0:\n",
      "        \n",
      "            # Use make_twitter_request via the partially bound callable...\n",
      "            if screen_name: \n",
      "                response = twitter_api_func(screen_name=screen_name, cursor=cursor)\n",
      "            else: # user_id\n",
      "                response = twitter_api_func(user_id=user_id, cursor=cursor)\n",
      "                \n",
      "        if response is not None:\n",
      "            ids = response['ids']\n",
      "            total_ids += len(ids)\n",
      "            save_to_mongo({\"ids\" : [_id for _id in ids ]}, database, label + \"_ids\")\n",
      "            cursor = response['next_cursor']\n",
      "                \n",
      "        print >> sys.stderr, 'Fetched {0} total {1} ids for {2}'.format(total_ids, label, (user_id or screen_name))\n",
      "        sys.stderr.flush()\n",
      "    \n",
      "        if len(ids) >= limit or response is None:\n",
      "            break\n",
      "            print >> sys.stderr, 'Last cursor', cursor\n",
      "            print >> sts.stderr, 'Last response', response\n",
      "                \n",
      "def save_to_mongo(data, mongo_db, mongo_db_coll, auth=None, **mongo_conn_kw):\n",
      "    \n",
      "    # Connects to the MongoDB server running on \n",
      "    # localhost:27017 by default\n",
      "   # client = pymongo.MongoClient(**mongo_conn_kw)\n",
      "    print \"saving to mongo\"\n",
      "    db = pymongo.MongoClient()[\"twitter_followers_test\"]\n",
      "    \n",
      "    # Get a reference to a particular database\n",
      "    \n",
      "#     db = client[mongo_db]\n",
      "#     if auth:\n",
      "#         db.authenticate(auth[0], auth[1])\n",
      "        \n",
      "    # Reference a particular collection on the database\n",
      "    \n",
      "    coll = db[mongo_db_coll]\n",
      "    \n",
      "    # Perform a bulk insert and  return the ids\n",
      "    \n",
      "    return coll.save(data)\n",
      "\n",
      "def load_from_mongo(mongo_db, mongo_db_coll, return_cursor=False,\n",
      "                    criteria=None, projection=None, auth=None, **mongo_conn_kw):\n",
      "    \n",
      "    # Optionally, use criteria and projection to limit the data that is \n",
      "    # returned as documented in \n",
      "    # http://docs.mongodb.org/manual/reference/method/db.collection.find/\n",
      "    \n",
      "    # Consider leveraging MongoDB's aggregations framework for more \n",
      "    # sophisticated queries.\n",
      "    \n",
      "    client = pymongo.MongoClient(**mongo_conn_kw)\n",
      "    db = client[mongo_db]\n",
      "    \n",
      "    if auth:\n",
      "        db.authenticate(auth[0], auth[1])\n",
      "\n",
      "    coll = db[mongo_db_coll]\n",
      "    \n",
      "    if criteria is None:\n",
      "        criteria = {}\n",
      "    \n",
      "    if projection is None:\n",
      "        cursor = coll.find(criteria)\n",
      "    else:\n",
      "        cursor = coll.find(criteria, projection)\n",
      "\n",
      "    # Returning a cursor is recommended for large amounts of data\n",
      "    \n",
      "    if return_cursor:\n",
      "        return cursor\n",
      "    else:\n",
      "        return [ item for item in cursor ]\n",
      "    \n",
      "    \n",
      "def store_user_info(twitter_api, screen_names=None, user_ids=None, database=None):\n",
      "   \n",
      "    # Must have either screen_name or user_id (logical xor)\n",
      "    assert (screen_names != None) != (user_ids != None), \"Must have screen_names or user_ids, but not both\"\n",
      "    \n",
      "    items = screen_names or user_ids\n",
      "    \n",
      "    while len(items) > 0:\n",
      "        if len(items)/100*100 % 1000 == 0:\n",
      "            print >> sys.stderr, len(items), \"remaining\"\n",
      "            \n",
      "        # Process 100 items at a time per the API specifications for /users/lookup. See\n",
      "        # https://dev.twitter.com/docs/api/1.1/get/users/lookup for details\n",
      "        \n",
      "        items_str = ','.join([str(item) for item in items[:100]])\n",
      "        items = items[100:]\n",
      "\n",
      "        if screen_names:\n",
      "            response = make_twitter_request(twitter_api.users.lookup, screen_name=items_str)\n",
      "        else: # user_ids\n",
      "            response = make_twitter_request(twitter_api.users.lookup, user_id=items_str)\n",
      "    \n",
      "        for profile in response:            \n",
      "            save_to_mongo(profile, database, 'followers_profiles')\n",
      "            \n",
      "# Go ahead and instantiate an instance of the Twitter API for common use\n",
      "# throughout the rest of this notebook.\n",
      "\n",
      "twitter_api = oauth_login()"
     ],
     "language": "python",
     "metadata": {},
     "outputs": [],
     "prompt_number": 22
    },
    {
     "cell_type": "heading",
     "level": 1,
     "metadata": {},
     "source": [
      "Searching for Nassim Taleb's followers. Since he has 94k followers we will have to run the program few times."
     ]
    },
    {
     "cell_type": "code",
     "collapsed": false,
     "input": [
      "def harvest_followers_ids(screen_names=[]):\n",
      "    \n",
      "    for screen_name in screen_names:\n",
      "        print 'getting info for', screen_name\n",
      "        store_friends_followers_ids(twitter_api, screen_name=screen_name, \n",
      "                                    friends_limit=0, database=screen_name)\n",
      "        \n",
      "\n",
      "        \n",
      "harvest_followers_ids(screen_names=[ 'nntaleb', 'jaltucher', 'tferriss', 'paulg', 'sama' ])\n",
      "\n",
      "print \"Done\""
     ],
     "language": "python",
     "metadata": {},
     "outputs": [
      {
       "output_type": "stream",
       "stream": "stderr",
       "text": [
        "Encountered 429 Error (Rate Limit Exceeded)\n",
        "Sleeping for 15 minutes, and then I'll try again...ZzZ...\n"
       ]
      },
      {
       "output_type": "stream",
       "stream": "stderr",
       "text": [
        "...ZzZ...Awake now and trying again.\n",
        "Encountered 429 Error (Rate Limit Exceeded)"
       ]
      },
      {
       "output_type": "stream",
       "stream": "stderr",
       "text": [
        "\n",
        "Sleeping for 15 minutes, and then I'll try again...ZzZ...\n"
       ]
      },
      {
       "output_type": "stream",
       "stream": "stderr",
       "text": [
        "...ZzZ...Awake now and trying again.\n",
        "Encountered 429 Error (Rate Limit Exceeded)"
       ]
      },
      {
       "output_type": "stream",
       "stream": "stderr",
       "text": [
        "\n",
        "Sleeping for 15 minutes, and then I'll try again...ZzZ...\n"
       ]
      },
      {
       "output_type": "stream",
       "stream": "stderr",
       "text": [
        "...ZzZ...Awake now and trying again.\n",
        "Encountered 429 Error (Rate Limit Exceeded)"
       ]
      },
      {
       "output_type": "stream",
       "stream": "stderr",
       "text": [
        "\n",
        "Sleeping for 15 minutes, and then I'll try again...ZzZ...\n"
       ]
      },
      {
       "output_type": "stream",
       "stream": "stderr",
       "text": [
        "...ZzZ...Awake now and trying again.\n",
        "URLError encountered. Continuing."
       ]
      },
      {
       "output_type": "stream",
       "stream": "stdout",
       "text": [
        "getting info for nntaleb\n",
        "about to make partial call\n"
       ]
      },
      {
       "output_type": "stream",
       "stream": "stderr",
       "text": [
        "\n",
        "URLError encountered. Continuing.\n",
        "URLError encountered. Continuing.\n",
        "URLError encountered. Continuing.\n",
        "URLError encountered. Continuing.\n",
        "URLError encountered. Continuing.\n",
        "URLError encountered. Continuing.\n",
        "URLError encountered. Continuing.\n",
        "URLError encountered. Continuing.\n",
        "URLError encountered. Continuing.\n",
        "URLError encountered. Continuing.\n",
        "Too many consecutive errors...bailing out.\n"
       ]
      },
      {
       "ename": "URLError",
       "evalue": "<urlopen error [Errno 8] nodename nor servname provided, or not known>",
       "output_type": "pyerr",
       "traceback": [
        "\u001b[0;31m---------------------------------------------------------------------------\u001b[0m\n\u001b[0;31mURLError\u001b[0m                                  Traceback (most recent call last)",
        "\u001b[0;32m<ipython-input-23-1115fed4b753>\u001b[0m in \u001b[0;36m<module>\u001b[0;34m()\u001b[0m\n\u001b[1;32m      7\u001b[0m \u001b[0;34m\u001b[0m\u001b[0m\n\u001b[1;32m      8\u001b[0m \u001b[0;34m\u001b[0m\u001b[0m\n\u001b[0;32m----> 9\u001b[0;31m \u001b[0mharvest_followers_ids\u001b[0m\u001b[0;34m(\u001b[0m\u001b[0mscreen_names\u001b[0m\u001b[0;34m=\u001b[0m\u001b[0;34m[\u001b[0m \u001b[0;34m'nntaleb'\u001b[0m\u001b[0;34m,\u001b[0m \u001b[0;34m'jaltucher'\u001b[0m\u001b[0;34m,\u001b[0m \u001b[0;34m'tferriss'\u001b[0m\u001b[0;34m,\u001b[0m \u001b[0;34m'paulg'\u001b[0m\u001b[0;34m,\u001b[0m \u001b[0;34m'sama'\u001b[0m \u001b[0;34m]\u001b[0m\u001b[0;34m)\u001b[0m\u001b[0;34m\u001b[0m\u001b[0m\n\u001b[0m\u001b[1;32m     10\u001b[0m \u001b[0;34m\u001b[0m\u001b[0m\n\u001b[1;32m     11\u001b[0m \u001b[0;32mprint\u001b[0m \u001b[0;34m\"Done\"\u001b[0m\u001b[0;34m\u001b[0m\u001b[0m\n",
        "\u001b[0;32m<ipython-input-23-1115fed4b753>\u001b[0m in \u001b[0;36mharvest_followers_ids\u001b[0;34m(screen_names)\u001b[0m\n\u001b[1;32m      3\u001b[0m         \u001b[0;32mprint\u001b[0m \u001b[0;34m'getting info for'\u001b[0m\u001b[0;34m,\u001b[0m \u001b[0mscreen_name\u001b[0m\u001b[0;34m\u001b[0m\u001b[0m\n\u001b[1;32m      4\u001b[0m         store_friends_followers_ids(twitter_api, screen_name=screen_name, \n\u001b[0;32m----> 5\u001b[0;31m                                     friends_limit=0, database=screen_name)\n\u001b[0m\u001b[1;32m      6\u001b[0m \u001b[0;34m\u001b[0m\u001b[0m\n\u001b[1;32m      7\u001b[0m \u001b[0;34m\u001b[0m\u001b[0m\n",
        "\u001b[0;32m<ipython-input-22-ffd2e51c93e0>\u001b[0m in \u001b[0;36mstore_friends_followers_ids\u001b[0;34m(twitter_api, screen_name, user_id, friends_limit, followers_limit, database)\u001b[0m\n\u001b[1;32m     85\u001b[0m             \u001b[0;31m# Use make_twitter_request via the partially bound callable...\u001b[0m\u001b[0;34m\u001b[0m\u001b[0;34m\u001b[0m\u001b[0m\n\u001b[1;32m     86\u001b[0m             \u001b[0;32mif\u001b[0m \u001b[0mscreen_name\u001b[0m\u001b[0;34m:\u001b[0m\u001b[0;34m\u001b[0m\u001b[0m\n\u001b[0;32m---> 87\u001b[0;31m                 \u001b[0mresponse\u001b[0m \u001b[0;34m=\u001b[0m \u001b[0mtwitter_api_func\u001b[0m\u001b[0;34m(\u001b[0m\u001b[0mscreen_name\u001b[0m\u001b[0;34m=\u001b[0m\u001b[0mscreen_name\u001b[0m\u001b[0;34m,\u001b[0m \u001b[0mcursor\u001b[0m\u001b[0;34m=\u001b[0m\u001b[0mcursor\u001b[0m\u001b[0;34m)\u001b[0m\u001b[0;34m\u001b[0m\u001b[0m\n\u001b[0m\u001b[1;32m     88\u001b[0m             \u001b[0;32melse\u001b[0m\u001b[0;34m:\u001b[0m \u001b[0;31m# user_id\u001b[0m\u001b[0;34m\u001b[0m\u001b[0m\n\u001b[1;32m     89\u001b[0m                 \u001b[0mresponse\u001b[0m \u001b[0;34m=\u001b[0m \u001b[0mtwitter_api_func\u001b[0m\u001b[0;34m(\u001b[0m\u001b[0muser_id\u001b[0m\u001b[0;34m=\u001b[0m\u001b[0muser_id\u001b[0m\u001b[0;34m,\u001b[0m \u001b[0mcursor\u001b[0m\u001b[0;34m=\u001b[0m\u001b[0mcursor\u001b[0m\u001b[0;34m)\u001b[0m\u001b[0;34m\u001b[0m\u001b[0m\n",
        "\u001b[0;32m<ipython-input-22-ffd2e51c93e0>\u001b[0m in \u001b[0;36mmake_twitter_request\u001b[0;34m(twitter_api_func, max_errors, *args, **kw)\u001b[0m\n\u001b[1;32m     42\u001b[0m     \u001b[0;32mwhile\u001b[0m \u001b[0mTrue\u001b[0m\u001b[0;34m:\u001b[0m\u001b[0;34m\u001b[0m\u001b[0m\n\u001b[1;32m     43\u001b[0m         \u001b[0;32mtry\u001b[0m\u001b[0;34m:\u001b[0m\u001b[0;34m\u001b[0m\u001b[0m\n\u001b[0;32m---> 44\u001b[0;31m             \u001b[0;32mreturn\u001b[0m \u001b[0mtwitter_api_func\u001b[0m\u001b[0;34m(\u001b[0m\u001b[0;34m*\u001b[0m\u001b[0margs\u001b[0m\u001b[0;34m,\u001b[0m \u001b[0;34m**\u001b[0m\u001b[0mkw\u001b[0m\u001b[0;34m)\u001b[0m\u001b[0;34m\u001b[0m\u001b[0m\n\u001b[0m\u001b[1;32m     45\u001b[0m         \u001b[0;32mexcept\u001b[0m \u001b[0mtwitter\u001b[0m\u001b[0;34m.\u001b[0m\u001b[0mapi\u001b[0m\u001b[0;34m.\u001b[0m\u001b[0mTwitterHTTPError\u001b[0m\u001b[0;34m,\u001b[0m \u001b[0me\u001b[0m\u001b[0;34m:\u001b[0m\u001b[0;34m\u001b[0m\u001b[0m\n\u001b[1;32m     46\u001b[0m             \u001b[0merror_count\u001b[0m \u001b[0;34m=\u001b[0m \u001b[0;36m0\u001b[0m\u001b[0;34m\u001b[0m\u001b[0m\n",
        "\u001b[0;32m/usr/local/lib/python2.7/site-packages/twitter/api.pyc\u001b[0m in \u001b[0;36m__call__\u001b[0;34m(self, **kwargs)\u001b[0m\n\u001b[1;32m    301\u001b[0m             \u001b[0;32mreturn\u001b[0m \u001b[0mself\u001b[0m\u001b[0;34m.\u001b[0m\u001b[0m_handle_response_with_retry\u001b[0m\u001b[0;34m(\u001b[0m\u001b[0mreq\u001b[0m\u001b[0;34m,\u001b[0m \u001b[0muri\u001b[0m\u001b[0;34m,\u001b[0m \u001b[0marg_data\u001b[0m\u001b[0;34m,\u001b[0m \u001b[0m_timeout\u001b[0m\u001b[0;34m)\u001b[0m\u001b[0;34m\u001b[0m\u001b[0m\n\u001b[1;32m    302\u001b[0m         \u001b[0;32melse\u001b[0m\u001b[0;34m:\u001b[0m\u001b[0;34m\u001b[0m\u001b[0m\n\u001b[0;32m--> 303\u001b[0;31m             \u001b[0;32mreturn\u001b[0m \u001b[0mself\u001b[0m\u001b[0;34m.\u001b[0m\u001b[0m_handle_response\u001b[0m\u001b[0;34m(\u001b[0m\u001b[0mreq\u001b[0m\u001b[0;34m,\u001b[0m \u001b[0muri\u001b[0m\u001b[0;34m,\u001b[0m \u001b[0marg_data\u001b[0m\u001b[0;34m,\u001b[0m \u001b[0m_timeout\u001b[0m\u001b[0;34m)\u001b[0m\u001b[0;34m\u001b[0m\u001b[0m\n\u001b[0m\u001b[1;32m    304\u001b[0m \u001b[0;34m\u001b[0m\u001b[0m\n\u001b[1;32m    305\u001b[0m     \u001b[0;32mdef\u001b[0m \u001b[0m_handle_response\u001b[0m\u001b[0;34m(\u001b[0m\u001b[0mself\u001b[0m\u001b[0;34m,\u001b[0m \u001b[0mreq\u001b[0m\u001b[0;34m,\u001b[0m \u001b[0muri\u001b[0m\u001b[0;34m,\u001b[0m \u001b[0marg_data\u001b[0m\u001b[0;34m,\u001b[0m \u001b[0m_timeout\u001b[0m\u001b[0;34m=\u001b[0m\u001b[0mNone\u001b[0m\u001b[0;34m)\u001b[0m\u001b[0;34m:\u001b[0m\u001b[0;34m\u001b[0m\u001b[0m\n",
        "\u001b[0;32m/usr/local/lib/python2.7/site-packages/twitter/api.pyc\u001b[0m in \u001b[0;36m_handle_response\u001b[0;34m(self, req, uri, arg_data, _timeout)\u001b[0m\n\u001b[1;32m    308\u001b[0m             \u001b[0mkwargs\u001b[0m\u001b[0;34m[\u001b[0m\u001b[0;34m'timeout'\u001b[0m\u001b[0;34m]\u001b[0m \u001b[0;34m=\u001b[0m \u001b[0m_timeout\u001b[0m\u001b[0;34m\u001b[0m\u001b[0m\n\u001b[1;32m    309\u001b[0m         \u001b[0;32mtry\u001b[0m\u001b[0;34m:\u001b[0m\u001b[0;34m\u001b[0m\u001b[0m\n\u001b[0;32m--> 310\u001b[0;31m             \u001b[0mhandle\u001b[0m \u001b[0;34m=\u001b[0m \u001b[0murllib_request\u001b[0m\u001b[0;34m.\u001b[0m\u001b[0murlopen\u001b[0m\u001b[0;34m(\u001b[0m\u001b[0mreq\u001b[0m\u001b[0;34m,\u001b[0m \u001b[0;34m**\u001b[0m\u001b[0mkwargs\u001b[0m\u001b[0;34m)\u001b[0m\u001b[0;34m\u001b[0m\u001b[0m\n\u001b[0m\u001b[1;32m    311\u001b[0m             \u001b[0;32mif\u001b[0m \u001b[0mhandle\u001b[0m\u001b[0;34m.\u001b[0m\u001b[0mheaders\u001b[0m\u001b[0;34m[\u001b[0m\u001b[0;34m'Content-Type'\u001b[0m\u001b[0;34m]\u001b[0m \u001b[0;32min\u001b[0m \u001b[0;34m[\u001b[0m\u001b[0;34m'image/jpeg'\u001b[0m\u001b[0;34m,\u001b[0m \u001b[0;34m'image/png'\u001b[0m\u001b[0;34m]\u001b[0m\u001b[0;34m:\u001b[0m\u001b[0;34m\u001b[0m\u001b[0m\n\u001b[1;32m    312\u001b[0m                 \u001b[0;32mreturn\u001b[0m \u001b[0mhandle\u001b[0m\u001b[0;34m\u001b[0m\u001b[0m\n",
        "\u001b[0;32m/usr/local/Cellar/python/2.7.8_2/Frameworks/Python.framework/Versions/2.7/lib/python2.7/urllib2.pyc\u001b[0m in \u001b[0;36murlopen\u001b[0;34m(url, data, timeout)\u001b[0m\n\u001b[1;32m    125\u001b[0m     \u001b[0;32mif\u001b[0m \u001b[0m_opener\u001b[0m \u001b[0;32mis\u001b[0m \u001b[0mNone\u001b[0m\u001b[0;34m:\u001b[0m\u001b[0;34m\u001b[0m\u001b[0m\n\u001b[1;32m    126\u001b[0m         \u001b[0m_opener\u001b[0m \u001b[0;34m=\u001b[0m \u001b[0mbuild_opener\u001b[0m\u001b[0;34m(\u001b[0m\u001b[0;34m)\u001b[0m\u001b[0;34m\u001b[0m\u001b[0m\n\u001b[0;32m--> 127\u001b[0;31m     \u001b[0;32mreturn\u001b[0m \u001b[0m_opener\u001b[0m\u001b[0;34m.\u001b[0m\u001b[0mopen\u001b[0m\u001b[0;34m(\u001b[0m\u001b[0murl\u001b[0m\u001b[0;34m,\u001b[0m \u001b[0mdata\u001b[0m\u001b[0;34m,\u001b[0m \u001b[0mtimeout\u001b[0m\u001b[0;34m)\u001b[0m\u001b[0;34m\u001b[0m\u001b[0m\n\u001b[0m\u001b[1;32m    128\u001b[0m \u001b[0;34m\u001b[0m\u001b[0m\n\u001b[1;32m    129\u001b[0m \u001b[0;32mdef\u001b[0m \u001b[0minstall_opener\u001b[0m\u001b[0;34m(\u001b[0m\u001b[0mopener\u001b[0m\u001b[0;34m)\u001b[0m\u001b[0;34m:\u001b[0m\u001b[0;34m\u001b[0m\u001b[0m\n",
        "\u001b[0;32m/usr/local/Cellar/python/2.7.8_2/Frameworks/Python.framework/Versions/2.7/lib/python2.7/urllib2.pyc\u001b[0m in \u001b[0;36mopen\u001b[0;34m(self, fullurl, data, timeout)\u001b[0m\n\u001b[1;32m    402\u001b[0m             \u001b[0mreq\u001b[0m \u001b[0;34m=\u001b[0m \u001b[0mmeth\u001b[0m\u001b[0;34m(\u001b[0m\u001b[0mreq\u001b[0m\u001b[0;34m)\u001b[0m\u001b[0;34m\u001b[0m\u001b[0m\n\u001b[1;32m    403\u001b[0m \u001b[0;34m\u001b[0m\u001b[0m\n\u001b[0;32m--> 404\u001b[0;31m         \u001b[0mresponse\u001b[0m \u001b[0;34m=\u001b[0m \u001b[0mself\u001b[0m\u001b[0;34m.\u001b[0m\u001b[0m_open\u001b[0m\u001b[0;34m(\u001b[0m\u001b[0mreq\u001b[0m\u001b[0;34m,\u001b[0m \u001b[0mdata\u001b[0m\u001b[0;34m)\u001b[0m\u001b[0;34m\u001b[0m\u001b[0m\n\u001b[0m\u001b[1;32m    405\u001b[0m \u001b[0;34m\u001b[0m\u001b[0m\n\u001b[1;32m    406\u001b[0m         \u001b[0;31m# post-process response\u001b[0m\u001b[0;34m\u001b[0m\u001b[0;34m\u001b[0m\u001b[0m\n",
        "\u001b[0;32m/usr/local/Cellar/python/2.7.8_2/Frameworks/Python.framework/Versions/2.7/lib/python2.7/urllib2.pyc\u001b[0m in \u001b[0;36m_open\u001b[0;34m(self, req, data)\u001b[0m\n\u001b[1;32m    420\u001b[0m         \u001b[0mprotocol\u001b[0m \u001b[0;34m=\u001b[0m \u001b[0mreq\u001b[0m\u001b[0;34m.\u001b[0m\u001b[0mget_type\u001b[0m\u001b[0;34m(\u001b[0m\u001b[0;34m)\u001b[0m\u001b[0;34m\u001b[0m\u001b[0m\n\u001b[1;32m    421\u001b[0m         result = self._call_chain(self.handle_open, protocol, protocol +\n\u001b[0;32m--> 422\u001b[0;31m                                   '_open', req)\n\u001b[0m\u001b[1;32m    423\u001b[0m         \u001b[0;32mif\u001b[0m \u001b[0mresult\u001b[0m\u001b[0;34m:\u001b[0m\u001b[0;34m\u001b[0m\u001b[0m\n\u001b[1;32m    424\u001b[0m             \u001b[0;32mreturn\u001b[0m \u001b[0mresult\u001b[0m\u001b[0;34m\u001b[0m\u001b[0m\n",
        "\u001b[0;32m/usr/local/Cellar/python/2.7.8_2/Frameworks/Python.framework/Versions/2.7/lib/python2.7/urllib2.pyc\u001b[0m in \u001b[0;36m_call_chain\u001b[0;34m(self, chain, kind, meth_name, *args)\u001b[0m\n\u001b[1;32m    380\u001b[0m             \u001b[0mfunc\u001b[0m \u001b[0;34m=\u001b[0m \u001b[0mgetattr\u001b[0m\u001b[0;34m(\u001b[0m\u001b[0mhandler\u001b[0m\u001b[0;34m,\u001b[0m \u001b[0mmeth_name\u001b[0m\u001b[0;34m)\u001b[0m\u001b[0;34m\u001b[0m\u001b[0m\n\u001b[1;32m    381\u001b[0m \u001b[0;34m\u001b[0m\u001b[0m\n\u001b[0;32m--> 382\u001b[0;31m             \u001b[0mresult\u001b[0m \u001b[0;34m=\u001b[0m \u001b[0mfunc\u001b[0m\u001b[0;34m(\u001b[0m\u001b[0;34m*\u001b[0m\u001b[0margs\u001b[0m\u001b[0;34m)\u001b[0m\u001b[0;34m\u001b[0m\u001b[0m\n\u001b[0m\u001b[1;32m    383\u001b[0m             \u001b[0;32mif\u001b[0m \u001b[0mresult\u001b[0m \u001b[0;32mis\u001b[0m \u001b[0;32mnot\u001b[0m \u001b[0mNone\u001b[0m\u001b[0;34m:\u001b[0m\u001b[0;34m\u001b[0m\u001b[0m\n\u001b[1;32m    384\u001b[0m                 \u001b[0;32mreturn\u001b[0m \u001b[0mresult\u001b[0m\u001b[0;34m\u001b[0m\u001b[0m\n",
        "\u001b[0;32m/usr/local/Cellar/python/2.7.8_2/Frameworks/Python.framework/Versions/2.7/lib/python2.7/urllib2.pyc\u001b[0m in \u001b[0;36mhttps_open\u001b[0;34m(self, req)\u001b[0m\n\u001b[1;32m   1220\u001b[0m \u001b[0;34m\u001b[0m\u001b[0m\n\u001b[1;32m   1221\u001b[0m         \u001b[0;32mdef\u001b[0m \u001b[0mhttps_open\u001b[0m\u001b[0;34m(\u001b[0m\u001b[0mself\u001b[0m\u001b[0;34m,\u001b[0m \u001b[0mreq\u001b[0m\u001b[0;34m)\u001b[0m\u001b[0;34m:\u001b[0m\u001b[0;34m\u001b[0m\u001b[0m\n\u001b[0;32m-> 1222\u001b[0;31m             \u001b[0;32mreturn\u001b[0m \u001b[0mself\u001b[0m\u001b[0;34m.\u001b[0m\u001b[0mdo_open\u001b[0m\u001b[0;34m(\u001b[0m\u001b[0mhttplib\u001b[0m\u001b[0;34m.\u001b[0m\u001b[0mHTTPSConnection\u001b[0m\u001b[0;34m,\u001b[0m \u001b[0mreq\u001b[0m\u001b[0;34m)\u001b[0m\u001b[0;34m\u001b[0m\u001b[0m\n\u001b[0m\u001b[1;32m   1223\u001b[0m \u001b[0;34m\u001b[0m\u001b[0m\n\u001b[1;32m   1224\u001b[0m         \u001b[0mhttps_request\u001b[0m \u001b[0;34m=\u001b[0m \u001b[0mAbstractHTTPHandler\u001b[0m\u001b[0;34m.\u001b[0m\u001b[0mdo_request_\u001b[0m\u001b[0;34m\u001b[0m\u001b[0m\n",
        "\u001b[0;32m/usr/local/Cellar/python/2.7.8_2/Frameworks/Python.framework/Versions/2.7/lib/python2.7/urllib2.pyc\u001b[0m in \u001b[0;36mdo_open\u001b[0;34m(self, http_class, req)\u001b[0m\n\u001b[1;32m   1182\u001b[0m         \u001b[0;32mexcept\u001b[0m \u001b[0msocket\u001b[0m\u001b[0;34m.\u001b[0m\u001b[0merror\u001b[0m\u001b[0;34m,\u001b[0m \u001b[0merr\u001b[0m\u001b[0;34m:\u001b[0m \u001b[0;31m# XXX what error?\u001b[0m\u001b[0;34m\u001b[0m\u001b[0m\n\u001b[1;32m   1183\u001b[0m             \u001b[0mh\u001b[0m\u001b[0;34m.\u001b[0m\u001b[0mclose\u001b[0m\u001b[0;34m(\u001b[0m\u001b[0;34m)\u001b[0m\u001b[0;34m\u001b[0m\u001b[0m\n\u001b[0;32m-> 1184\u001b[0;31m             \u001b[0;32mraise\u001b[0m \u001b[0mURLError\u001b[0m\u001b[0;34m(\u001b[0m\u001b[0merr\u001b[0m\u001b[0;34m)\u001b[0m\u001b[0;34m\u001b[0m\u001b[0m\n\u001b[0m\u001b[1;32m   1185\u001b[0m         \u001b[0;32melse\u001b[0m\u001b[0;34m:\u001b[0m\u001b[0;34m\u001b[0m\u001b[0m\n\u001b[1;32m   1186\u001b[0m             \u001b[0;32mtry\u001b[0m\u001b[0;34m:\u001b[0m\u001b[0;34m\u001b[0m\u001b[0m\n",
        "\u001b[0;31mURLError\u001b[0m: <urlopen error [Errno 8] nodename nor servname provided, or not known>"
       ]
      }
     ],
     "prompt_number": 23
    },
    {
     "cell_type": "code",
     "collapsed": false,
     "input": [
      "# Compute a list containing the number of followers for each of Nassim Taleb's own followers.\n",
      "# Sort it for convenience of slicing and plotting.\n",
      "\n",
      "nassimtaleb_followers_counts = sorted([f['followers_count'] \n",
      "                                      for f in load_from_mongo('nntaleb', 'followers_profiles', \n",
      "                                                         projection={'followers_count' : 1, '_id' : 0})])"
     ],
     "language": "python",
     "metadata": {},
     "outputs": []
    },
    {
     "cell_type": "heading",
     "level": 3,
     "metadata": {},
     "source": [
      "Plot the histogram of followers "
     ]
    },
    {
     "cell_type": "code",
     "collapsed": false,
     "input": [
      "#plot a histogram of taleb's followers\n",
      "plt.loglog(nassimtaleb_followers_counts)\n",
      "plt.ylabel(\"Num Followers\")\n",
      "plt.xlabel(\"Follower Rank\")"
     ],
     "language": "python",
     "metadata": {},
     "outputs": []
    },
    {
     "cell_type": "code",
     "collapsed": false,
     "input": [
      "# Now knowing that the curve resembles that of a \"power law\" and that\n",
      "# most of the substance is in the \"long tail\", let's zoom in on some the tail \n",
      "# with a histogram.\n",
      "\n",
      "# The resolution for a histogram displaying the full data set would be less than \n",
      "# useful to look at since the x-axis would stretch all the way out to accomodate \n",
      "# the outliers. (Try it.)\n",
      "# plt.hist(nassimtaleb_followers_counts)\n",
      "\n",
      "# So, hack the display a bit so that we only visualize 99% of the data and avoid the\n",
      "# outliers on the upper extreme. It's easy enough to produce a separate plot of them\n",
      "\n",
      "bins = [0,5,10,100,200,300,400,500,1000,4000]\n",
      "plt.hist(nassimtaleb_followers_counts[:len(nassimtaleb_followers_counts)/100*99], bins=bins)\n",
      "\n",
      "\n",
      "plt.title(\"Nassim Taleb Followers\")\n",
      "plt.xlabel('Bins (range of popularity for Nassim\\'s followers)')\n",
      "plt.ylabel('Number of followers in bin')"
     ],
     "language": "python",
     "metadata": {},
     "outputs": []
    },
    {
     "cell_type": "heading",
     "level": 5,
     "metadata": {},
     "source": [
      "Let's look at followers and the number of followers they have. If followers have only a few follwers we will drop them"
     ]
    },
    {
     "cell_type": "code",
     "collapsed": false,
     "input": [
      "# Let's start with a very base assumption for the time being: \n",
      "# any follower with less than 10 followers of their own is \"suspect\" in the\n",
      "# sense that this follower may be an inactive account, spambot, or abandoned account.\n",
      "# Regardless, it probably offers no meaningful influence. (Although this assumption \n",
      "# may be a bit naive, it seems a reasonable starting point for now.)\n",
      "\n",
      "MIN = 10\n",
      "nassimtaleb_suspect_followers = [f \n",
      "                                for f in load_from_mongo('nntaleb', 'followers_profiles', \n",
      "                                                          projection={'followers_count' : 1, 'id' : 1, '_id' : 0})\n",
      "                                if f['followers_count'] < MIN]\n",
      "\n",
      "print \"Nassim Taleb has {0} 'suspect' followers for MIN={1}\".format(len(nntaleb_suspect_followers), MIN)"
     ],
     "language": "python",
     "metadata": {},
     "outputs": []
    },
    {
     "cell_type": "code",
     "collapsed": false,
     "input": [],
     "language": "python",
     "metadata": {},
     "outputs": []
    },
    {
     "cell_type": "code",
     "collapsed": false,
     "input": [
      "##This is a search for Paul Grahms \n",
      "def harvest_followers_ids(screen_names=[]):\n",
      "    for screen_name in screen_names:\n",
      "        store_friends_followers_ids(twitter_api, screen_name=screen_name, \n",
      "                                    friends_limit=0, database=screen_name)\n",
      "\n",
      "        \n",
      "harvest_followers_ids(screen_names=[ 'paulg' ])\n",
      "\n",
      "print \"Done\""
     ],
     "language": "python",
     "metadata": {},
     "outputs": []
    },
    {
     "cell_type": "code",
     "collapsed": false,
     "input": [
      "# Create sets of ids for each account of interest by flattening out the lists for each\n",
      "# request that was stored in MongoDB. (The maximum document size in MongoDB is ~16MB so\n",
      "# there would have been little to gain by trying to store them in a flatter structure \n",
      "# from the outset since multiple documents would have inevitably been required.)\n",
      "\n",
      "nntaleb_followers_ids = set([fid\n",
      "                 for ids in load_from_mongo('nntaleb', 'followers_ids', projection={'ids' : 1})\n",
      "                     for fid in ids['ids']\n",
      "                 ])\n",
      "\n",
      "paulg_followers_ids = set([fid\n",
      "                 for ids in load_from_mongo('paulg', 'followers_ids', projection={'ids' : 1})\n",
      "                     for fid in ids['ids']\n",
      "                 ])\n",
      "\n",
      "# Now, calculate the number of followers in common between each person of interest\n",
      "# by using set intersections.\n",
      "\n",
      "nntaleb_paulg_common_followers_ids = paulg_followers_ids & nntaleb_followers_ids\n",
      "\n",
      "print \"Nassim Taleb and Paul Grahm have {0} followers in common.\"\\\n",
      ".format(len(nntaleb_paulg_common_followers_ids))"
     ],
     "language": "python",
     "metadata": {},
     "outputs": []
    }
   ],
   "metadata": {}
  }
 ]
}